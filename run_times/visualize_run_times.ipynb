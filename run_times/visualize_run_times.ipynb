{
 "cells": [
  {
   "cell_type": "code",
   "execution_count": 114,
   "id": "40a71ad7",
   "metadata": {},
   "outputs": [],
   "source": [
    "library(ggplot2)\n",
    "library(dplyr)"
   ]
  },
  {
   "cell_type": "code",
   "execution_count": 115,
   "id": "e891ae4e",
   "metadata": {},
   "outputs": [],
   "source": [
    "# Load data\n",
    "data <- read.csv('run_times.csv')"
   ]
  },
  {
   "cell_type": "code",
   "execution_count": 116,
   "id": "48153b13",
   "metadata": {},
   "outputs": [],
   "source": [
    "# Convert time to hours\n",
    "convert_time_to_hours <- function(time_str) {\n",
    "  time_components <- unlist(strsplit(time_str, \"[ms ]\"))\n",
    "  minutes <- as.numeric(time_components[1])\n",
    "  seconds <- as.numeric(time_components[2])\n",
    "  total_hours <- minutes / 60 + seconds / 3600\n",
    "  return(total_hours)\n",
    "}\n",
    "\n",
    "# Carry out time conversion\n",
    "data$Real_Time_Hours <- sapply(data$Real_Time, convert_time_to_hours)"
   ]
  },
  {
   "cell_type": "code",
   "execution_count": 117,
   "id": "7b02ddfe",
   "metadata": {},
   "outputs": [],
   "source": [
    "# Organize data\n",
    "data <- data %>%\n",
    "  arrange(rev(Genome)) %>%\n",
    "  mutate(SRA_ID = factor(SRA_ID, levels = SRA_ID))\n",
    "\n",
    "# Create bar plot\n",
    "plot <- ggplot(data, aes(x = Real_Time_Hours, y = SRA_ID, fill = Genome)) +\n",
    "  geom_bar(stat = \"identity\") +\n",
    "  labs(\n",
    "    x = \"Real Time (hours)\",\n",
    "    y = \"SRA ID\",\n",
    "    title = \"Rocketchip Execution Time\"\n",
    "  ) +\n",
    "  theme_minimal() +\n",
    "  theme(\n",
    "    axis.text.y = element_text(angle = 0, hjust = 1), \n",
    "    plot.title = element_text(hjust = 0.5),\n",
    "    panel.grid = element_blank(),\n",
    "    axis.line = element_line(color = \"black\"), \n",
    "    panel.grid.major = element_blank(),         \n",
    "    panel.grid.minor = element_blank()         \n",
    "  )\n",
    "\n",
    "# Add bar labels\n",
    "plot <- plot + geom_text(\n",
    "  aes(label = round(Real_Time_Hours, 2)),\n",
    "  vjust = 0.5,\n",
    "  hjust = -0.1,\n",
    ")\n",
    "\n",
    "\n",
    "# Save the plot to a file with specified dimensions\n",
    "ggsave(\"tables_and_figures/run_times.pdf\", plot, width = 12.1, height = 8)"
   ]
  }
 ],
 "metadata": {
  "kernelspec": {
   "display_name": "R",
   "language": "R",
   "name": "ir"
  },
  "language_info": {
   "codemirror_mode": "r",
   "file_extension": ".r",
   "mimetype": "text/x-r-source",
   "name": "R",
   "pygments_lexer": "r",
   "version": "4.2.0"
  }
 },
 "nbformat": 4,
 "nbformat_minor": 5
}
