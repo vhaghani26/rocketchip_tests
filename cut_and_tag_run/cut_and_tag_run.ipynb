{
 "cells": [
  {
   "cell_type": "markdown",
   "id": "cd6927f9",
   "metadata": {},
   "source": [
    "## Set Library Path"
   ]
  },
  {
   "cell_type": "code",
   "execution_count": 1,
   "id": "e18dae20",
   "metadata": {},
   "outputs": [],
   "source": [
    ".libPaths(\"/share/korflab/home/viki/anaconda3/jupyter_nb/lib/R/library\")"
   ]
  },
  {
   "cell_type": "markdown",
   "id": "b94f8c44",
   "metadata": {},
   "source": [
    "## Load Packages"
   ]
  },
  {
   "cell_type": "code",
   "execution_count": 4,
   "id": "89261d92",
   "metadata": {},
   "outputs": [],
   "source": [
    "library(ggplot2)\n",
    "library(tidyr)\n",
    "library(dplyr)"
   ]
  },
  {
   "cell_type": "markdown",
   "id": "e95a119f",
   "metadata": {},
   "source": [
    "## Load Dataframe"
   ]
  },
  {
   "cell_type": "code",
   "execution_count": 39,
   "id": "ae4707bf",
   "metadata": {},
   "outputs": [],
   "source": [
    "df <- read.csv(\"cut_and_tag_run.csv\", header = TRUE)"
   ]
  },
  {
   "cell_type": "markdown",
   "id": "dacf68c2",
   "metadata": {},
   "source": [
    "## Prepare Data"
   ]
  },
  {
   "cell_type": "code",
   "execution_count": 15,
   "id": "e0e526ed",
   "metadata": {},
   "outputs": [],
   "source": [
    "# Subset CUT&RUN data\n",
    "cut_and_run <- df[df$Origin == \"CUT&RUN\", ]\n",
    "\n",
    "cut_and_run$Original_Percent_Aligned <- as.numeric(sub(\"%\", \"\", cut_and_run$Original_Percent_Aligned))\n",
    "cut_and_run$Rocketchip_Percent_Aligned <- as.numeric(sub(\"%\", \"\", cut_and_run$Rocketchip_Percent_Aligned))\n",
    "\n",
    "cut_and_run_long <- tidyr::pivot_longer(cut_and_run, cols = c(\"Original_Percent_Aligned\", \"Rocketchip_Percent_Aligned\"), names_to = \"Method\")"
   ]
  },
  {
   "cell_type": "code",
   "execution_count": 16,
   "id": "002460cf",
   "metadata": {},
   "outputs": [
    {
     "name": "stdout",
     "output_type": "stream",
     "text": [
      "\n",
      "\tPaired t-test\n",
      "\n",
      "data:  cut_and_run_wide$Rocketchip_Percent_Aligned and cut_and_run_wide$Original_Percent_Aligned\n",
      "t = 4.1932, df = 8, p-value = 0.003025\n",
      "alternative hypothesis: true mean difference is not equal to 0\n",
      "95 percent confidence interval:\n",
      " 14.69945 50.62277\n",
      "sample estimates:\n",
      "mean difference \n",
      "       32.66111 \n",
      "\n"
     ]
    }
   ],
   "source": [
    "# Carry out t-test\n",
    "\n",
    "# Reorganize data\n",
    "cut_and_run_long$Raw_Reads <- as.numeric(gsub(\",\", \"\", cut_and_run_long$Raw_Reads))\n",
    "cut_and_run_wide <- cut_and_run_long %>% spread(Method, value)\n",
    "\n",
    "# Calculate the standard error of the mean for each group\n",
    "cut_and_run_sem_values <- cut_and_run_wide %>%\n",
    "  summarise(\n",
    "    Original_Percent_Aligned = sd(Original_Percent_Aligned, na.rm = TRUE) / sqrt(length(Original_Percent_Aligned)),\n",
    "    Rocketchip_Percent_Aligned = sd(Rocketchip_Percent_Aligned, na.rm = TRUE) / sqrt(length(Rocketchip_Percent_Aligned))\n",
    "  )\n",
    "\n",
    "# Perform paired t-test\n",
    "cut_and_run_t_test_result <- t.test(cut_and_run_wide$Rocketchip_Percent_Aligned, cut_and_run_wide$Original_Percent_Aligned, paired = TRUE)\n",
    "\n",
    "# Display the t-test results\n",
    "print(cut_and_run_t_test_result)\n",
    "\n",
    "# Save the t-test results in a variable\n",
    "cut_and_run_p_value <- cut_and_run_t_test_result$p.value"
   ]
  },
  {
   "cell_type": "code",
   "execution_count": 40,
   "id": "0502d3ec",
   "metadata": {},
   "outputs": [],
   "source": [
    "# Subset CUT&Tag data\n",
    "cut_and_tag <- df[df$Origin == \"CUT&Tag\", ]\n",
    "\n",
    "cut_and_tag$Original_Percent_Aligned <- as.numeric(sub(\"%\", \"\", cut_and_tag$Original_Percent_Aligned))\n",
    "cut_and_tag$Rocketchip_Percent_Aligned <- as.numeric(sub(\"%\", \"\", cut_and_tag$Rocketchip_Percent_Aligned))\n",
    "\n",
    "cut_and_tag_long <- tidyr::pivot_longer(cut_and_tag, cols = c(\"Original_Percent_Aligned\", \"Rocketchip_Percent_Aligned\"), names_to = \"Method\")"
   ]
  },
  {
   "cell_type": "code",
   "execution_count": 41,
   "id": "7eba251c",
   "metadata": {},
   "outputs": [
    {
     "name": "stdout",
     "output_type": "stream",
     "text": [
      "\n",
      "\tPaired t-test\n",
      "\n",
      "data:  cut_and_tag_wide$Rocketchip_Percent_Aligned and cut_and_tag_wide$Original_Percent_Aligned\n",
      "t = -10.291, df = 5, p-value = 0.000149\n",
      "alternative hypothesis: true mean difference is not equal to 0\n",
      "95 percent confidence interval:\n",
      " -10.508741  -6.307926\n",
      "sample estimates:\n",
      "mean difference \n",
      "      -8.408333 \n",
      "\n"
     ]
    }
   ],
   "source": [
    "# Carry out t-test\n",
    "\n",
    "# Reorganize data\n",
    "cut_and_tag_long$Raw_Reads <- as.numeric(gsub(\",\", \"\", cut_and_tag_long$Raw_Reads))\n",
    "cut_and_tag_wide <- cut_and_tag_long %>% spread(Method, value)\n",
    "\n",
    "# Calculate the standard error of the mean for each group\n",
    "cut_and_tag_sem_values <- cut_and_tag_wide %>%\n",
    "  summarise(\n",
    "    Original_Percent_Aligned = sd(Original_Percent_Aligned, na.rm = TRUE) / sqrt(length(Original_Percent_Aligned)),\n",
    "    Rocketchip_Percent_Aligned = sd(Rocketchip_Percent_Aligned, na.rm = TRUE) / sqrt(length(Rocketchip_Percent_Aligned))\n",
    "  )\n",
    "\n",
    "# Perform paired t-test\n",
    "cut_and_tag_t_test_result <- t.test(cut_and_tag_wide$Rocketchip_Percent_Aligned, cut_and_tag_wide$Original_Percent_Aligned, paired = TRUE)\n",
    "\n",
    "# Display the t-test results\n",
    "print(cut_and_tag_t_test_result)\n",
    "\n",
    "# Save the t-test results in a variable\n",
    "cut_and_tag_p_value <- cut_and_tag_t_test_result$p.value"
   ]
  },
  {
   "cell_type": "markdown",
   "id": "8c3236f4",
   "metadata": {},
   "source": [
    "## Create Plot"
   ]
  },
  {
   "cell_type": "code",
   "execution_count": 34,
   "id": "c4732651",
   "metadata": {},
   "outputs": [
    {
     "data": {
      "text/html": [
       "<strong>png:</strong> 2"
      ],
      "text/latex": [
       "\\textbf{png:} 2"
      ],
      "text/markdown": [
       "**png:** 2"
      ],
      "text/plain": [
       "png \n",
       "  2 "
      ]
     },
     "metadata": {},
     "output_type": "display_data"
    }
   ],
   "source": [
    "# CUT&RUN\n",
    "\n",
    "pdf(\"cut_and_run_barplot.pdf\", width = 9, height = 5)\n",
    "\n",
    "ggplot(cut_and_run_long, aes(x = SRA_ID, y = value, fill = Method)) +\n",
    "  geom_bar(position = position_dodge(width = 0.8), stat = \"identity\", width = 0.6) +\n",
    "  geom_errorbar(aes(ymin = value - cut_and_run_sem_values$Original_Percent_Aligned, ymax = value + cut_and_run_sem_values$Original_Percent_Aligned), position = position_dodge(width = 0.8), width = 0.25) +\n",
    "  geom_errorbar(aes(ymin = value - cut_and_run_sem_values$Rocketchip_Percent_Aligned, ymax = value + cut_and_run_sem_values$Rocketchip_Percent_Aligned), position = position_dodge(width = 0.8), width = 0.25) +\n",
    "  labs(title = paste(\"Alignment Percentages for Akdogan-Ozdilek et. al (Original) vs. Rocketchip for CUT&RUN Data\",\n",
    "                     \"\\nPaired t-test p-value:\", format.pval(cut_and_run_p_value, digits = 3)),\n",
    "       x = \"SRA ID\",\n",
    "       y = \"Percent Alignment\") +\n",
    "  theme_minimal() +\n",
    "  theme(axis.text.x = element_text(angle = 90, hjust = 1),\n",
    "        plot.title = element_text(hjust = 0.5),\n",
    "        panel.grid = element_blank(),\n",
    "        axis.line.x = element_line(color = \"black\"),\n",
    "        axis.line.y = element_line(color = \"black\")) +  \n",
    "  scale_fill_manual(values = c(\"Original_Percent_Aligned\" = \"#DF536B\", \"Rocketchip_Percent_Aligned\" = \"#2297E6\"),\n",
    "                    name = \"Method\",\n",
    "                    labels = c(\"Original_Percent_Aligned\" = \"Original\", \"Rocketchip_Percent_Aligned\" = \"Rocketchip\"))\n",
    "\n",
    "dev.off()"
   ]
  },
  {
   "cell_type": "code",
   "execution_count": 42,
   "id": "3e1aa886",
   "metadata": {},
   "outputs": [
    {
     "data": {
      "text/html": [
       "<strong>png:</strong> 2"
      ],
      "text/latex": [
       "\\textbf{png:} 2"
      ],
      "text/markdown": [
       "**png:** 2"
      ],
      "text/plain": [
       "png \n",
       "  2 "
      ]
     },
     "metadata": {},
     "output_type": "display_data"
    }
   ],
   "source": [
    "# CUT&Tag\n",
    "\n",
    "pdf(\"cut_and_tag_barplot.pdf\", width = 9, height = 5)\n",
    "\n",
    "ggplot(cut_and_tag_long, aes(x = SRA_ID, y = value, fill = Method)) +\n",
    "  geom_bar(position = position_dodge(width = 0.8), stat = \"identity\", width = 0.6) +\n",
    "  geom_errorbar(aes(ymin = value - cut_and_tag_sem_values$Original_Percent_Aligned, ymax = value + cut_and_tag_sem_values$Original_Percent_Aligned), position = position_dodge(width = 0.8), width = 0.25) +\n",
    "  geom_errorbar(aes(ymin = value - cut_and_tag_sem_values$Rocketchip_Percent_Aligned, ymax = value + cut_and_tag_sem_values$Rocketchip_Percent_Aligned), position = position_dodge(width = 0.8), width = 0.25) +\n",
    "  labs(title = paste(\"Alignment Percentages for Akdogan-Ozdilek et. al (Original) vs. Rocketchip for CUT&tag Data\",\n",
    "                     \"\\nPaired t-test p-value:\", format.pval(cut_and_tag_p_value, digits = 3)),\n",
    "       x = \"SRA ID\",\n",
    "       y = \"Percent Alignment\") +\n",
    "  theme_minimal() +\n",
    "  theme(axis.text.x = element_text(angle = 90, hjust = 1),\n",
    "        plot.title = element_text(hjust = 0.5),\n",
    "        panel.grid = element_blank(),\n",
    "        axis.line.x = element_line(color = \"black\"),\n",
    "        axis.line.y = element_line(color = \"black\")) +  \n",
    "  scale_fill_manual(values = c(\"Original_Percent_Aligned\" = \"#DF536B\", \"Rocketchip_Percent_Aligned\" = \"#2297E6\"),\n",
    "                    name = \"Method\",\n",
    "                    labels = c(\"Original_Percent_Aligned\" = \"Original\", \"Rocketchip_Percent_Aligned\" = \"Rocketchip\"))\n",
    "\n",
    "dev.off()"
   ]
  }
 ],
 "metadata": {
  "kernelspec": {
   "display_name": "R",
   "language": "R",
   "name": "ir"
  },
  "language_info": {
   "codemirror_mode": "r",
   "file_extension": ".r",
   "mimetype": "text/x-r-source",
   "name": "R",
   "pygments_lexer": "r",
   "version": "4.2.0"
  }
 },
 "nbformat": 4,
 "nbformat_minor": 5
}
