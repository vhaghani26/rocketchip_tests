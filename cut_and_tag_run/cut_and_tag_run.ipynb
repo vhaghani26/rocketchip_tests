{
 "cells": [
  {
   "cell_type": "markdown",
   "id": "cd6927f9",
   "metadata": {},
   "source": [
    "## Set Library Path"
   ]
  },
  {
   "cell_type": "code",
   "execution_count": 87,
   "id": "e18dae20",
   "metadata": {},
   "outputs": [],
   "source": [
    ".libPaths(\"/share/korflab/home/viki/anaconda3/jupyter_nb/lib/R/library\")"
   ]
  },
  {
   "cell_type": "markdown",
   "id": "b94f8c44",
   "metadata": {},
   "source": [
    "## Load Packages"
   ]
  },
  {
   "cell_type": "code",
   "execution_count": 88,
   "id": "89261d92",
   "metadata": {},
   "outputs": [],
   "source": [
    "library(ggplot2)\n",
    "library(tidyr)\n",
    "library(dplyr)"
   ]
  },
  {
   "cell_type": "markdown",
   "id": "e95a119f",
   "metadata": {},
   "source": [
    "## Load Dataframe"
   ]
  },
  {
   "cell_type": "code",
   "execution_count": 89,
   "id": "ae4707bf",
   "metadata": {},
   "outputs": [],
   "source": [
    "df <- read.csv(\"cut_and_tag_run.csv\", header = TRUE)"
   ]
  },
  {
   "cell_type": "markdown",
   "id": "dacf68c2",
   "metadata": {},
   "source": [
    "## Prepare Data"
   ]
  },
  {
   "cell_type": "code",
   "execution_count": 90,
   "id": "e0e526ed",
   "metadata": {},
   "outputs": [],
   "source": [
    "# Subset CUT&RUN data\n",
    "cut_and_run <- df[df$Origin == \"CUT&RUN\", ]\n",
    "\n",
    "cut_and_run$Original_Percent_Aligned <- as.numeric(sub(\"%\", \"\", cut_and_run$Original_Percent_Aligned))\n",
    "cut_and_run$Rocketchip_Percent_Aligned <- as.numeric(sub(\"%\", \"\", cut_and_run$Rocketchip_Percent_Aligned))\n",
    "\n",
    "cut_and_run_long <- tidyr::pivot_longer(cut_and_run, cols = c(\"Original_Percent_Aligned\", \"Rocketchip_Percent_Aligned\"), names_to = \"Method\")"
   ]
  },
  {
   "cell_type": "code",
   "execution_count": 91,
   "id": "0502d3ec",
   "metadata": {},
   "outputs": [],
   "source": [
    "# Subset CUT&Tag data\n",
    "cut_and_tag <- df[df$Origin == \"CUT&Tag\", ]\n",
    "\n",
    "cut_and_tag$Original_Percent_Aligned <- as.numeric(sub(\"%\", \"\", cut_and_tag$Original_Percent_Aligned))\n",
    "cut_and_tag$Rocketchip_Percent_Aligned <- as.numeric(sub(\"%\", \"\", cut_and_tag$Rocketchip_Percent_Aligned))\n",
    "\n",
    "cut_and_tag_long <- tidyr::pivot_longer(cut_and_tag, cols = c(\"Original_Percent_Aligned\", \"Rocketchip_Percent_Aligned\"), names_to = \"Method\")"
   ]
  },
  {
   "cell_type": "markdown",
   "id": "8c3236f4",
   "metadata": {},
   "source": [
    "## Create Plot"
   ]
  },
  {
   "cell_type": "code",
   "execution_count": 92,
   "id": "c4732651",
   "metadata": {},
   "outputs": [
    {
     "data": {
      "text/html": [
       "<strong>png:</strong> 2"
      ],
      "text/latex": [
       "\\textbf{png:} 2"
      ],
      "text/markdown": [
       "**png:** 2"
      ],
      "text/plain": [
       "png \n",
       "  2 "
      ]
     },
     "metadata": {},
     "output_type": "display_data"
    }
   ],
   "source": [
    "# CUT&RUN\n",
    "\n",
    "pdf(\"cut_and_run_barplot.pdf\", width = 9, height = 5)\n",
    "\n",
    "ggplot(cut_and_run_long, aes(x = SRA_ID, y = value, fill = Method)) +\n",
    "  geom_bar(position = position_dodge(width = 0.8), stat = \"identity\", width = 0.6) +\n",
    "  labs(title = \"Alignment Percentages for Akdogan-Ozdilek et. al (Original) vs. Rocketchip for CUT&RUN Data\",\n",
    "       x = \"SRA ID\",\n",
    "       y = \"Percent Alignment\") +\n",
    "  theme_minimal() +\n",
    "  theme(axis.text.x = element_text(angle = 90, hjust = 1),\n",
    "        plot.title = element_text(hjust = 0.5),\n",
    "        panel.grid = element_blank(),\n",
    "        axis.line.x = element_line(color = \"black\"),\n",
    "        axis.line.y = element_line(color = \"black\")) +  \n",
    "  scale_fill_manual(values = c(\"Original_Percent_Aligned\" = \"#DF536B\", \"Rocketchip_Percent_Aligned\" = \"#2297E6\"),\n",
    "                    name = \"Method\",\n",
    "                    labels = c(\"Original_Percent_Aligned\" = \"Original\", \"Rocketchip_Percent_Aligned\" = \"Rocketchip\"))\n",
    "\n",
    "dev.off()"
   ]
  },
  {
   "cell_type": "code",
   "execution_count": 93,
   "id": "3e1aa886",
   "metadata": {},
   "outputs": [
    {
     "data": {
      "text/html": [
       "<strong>png:</strong> 2"
      ],
      "text/latex": [
       "\\textbf{png:} 2"
      ],
      "text/markdown": [
       "**png:** 2"
      ],
      "text/plain": [
       "png \n",
       "  2 "
      ]
     },
     "metadata": {},
     "output_type": "display_data"
    }
   ],
   "source": [
    "# CUT&Tag\n",
    "\n",
    "pdf(\"cut_and_tag_barplot.pdf\", width = 9, height = 5)\n",
    "\n",
    "ggplot(cut_and_tag_long, aes(x = SRA_ID, y = value, fill = Method)) +\n",
    "  geom_bar(position = position_dodge(width = 0.8), stat = \"identity\", width = 0.6) +\n",
    "  labs(title = \"Alignment Percentages for Akdogan-Ozdilek et. al (Original) vs. Rocketchip for CUT&Tag Data\",\n",
    "       x = \"SRA ID\",\n",
    "       y = \"Percent Alignment\") +\n",
    "  theme_minimal() +\n",
    "  theme(axis.text.x = element_text(angle = 90, hjust = 1),\n",
    "        plot.title = element_text(hjust = 0.5),\n",
    "        panel.grid = element_blank(),\n",
    "        axis.line.x = element_line(color = \"black\"),\n",
    "        axis.line.y = element_line(color = \"black\")) +  \n",
    "  scale_fill_manual(values = c(\"Original_Percent_Aligned\" = \"#DF536B\", \"Rocketchip_Percent_Aligned\" = \"#2297E6\"),\n",
    "                    name = \"Method\",\n",
    "                    labels = c(\"Original_Percent_Aligned\" = \"Original\", \"Rocketchip_Percent_Aligned\" = \"Rocketchip\"))\n",
    "\n",
    "dev.off()"
   ]
  }
 ],
 "metadata": {
  "kernelspec": {
   "display_name": "R",
   "language": "R",
   "name": "ir"
  },
  "language_info": {
   "codemirror_mode": "r",
   "file_extension": ".r",
   "mimetype": "text/x-r-source",
   "name": "R",
   "pygments_lexer": "r",
   "version": "4.2.0"
  }
 },
 "nbformat": 4,
 "nbformat_minor": 5
}
