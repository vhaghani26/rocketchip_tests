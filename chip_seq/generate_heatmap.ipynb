{
 "cells": [
  {
   "cell_type": "markdown",
   "id": "519c3175",
   "metadata": {},
   "source": [
    "## Set Library Path"
   ]
  },
  {
   "cell_type": "code",
   "execution_count": 1,
   "id": "c5d61856",
   "metadata": {},
   "outputs": [],
   "source": [
    ".libPaths(\"/share/korflab/home/viki/anaconda3/jupyter_nb/lib/R/library\")"
   ]
  },
  {
   "cell_type": "markdown",
   "id": "e0767cbb",
   "metadata": {},
   "source": [
    "## Update Bioconductor"
   ]
  },
  {
   "cell_type": "code",
   "execution_count": null,
   "id": "b01860bd",
   "metadata": {},
   "outputs": [],
   "source": [
    "if (!require(\"BiocManager\", quietly = TRUE))\n",
    "    install.packages(\"BiocManager\")\n",
    "BiocManager::install(version = \"3.17\")"
   ]
  },
  {
   "cell_type": "markdown",
   "id": "a31273ca",
   "metadata": {},
   "source": [
    "## Install Packages"
   ]
  },
  {
   "cell_type": "code",
   "execution_count": null,
   "id": "d711c8e9",
   "metadata": {},
   "outputs": [],
   "source": [
    "# ComplexHeatmap\n",
    "if (!require(\"BiocManager\", quietly = TRUE))\n",
    "    install.packages(\"BiocManager\")\n",
    "BiocManager::install(\"ComplexHeatmap\")\n",
    "\n",
    "# dplyr\n",
    "install.packages(\"dplyr\")\n",
    "\n",
    "# tidyr\n",
    "install.packages(\"tidyr\")\n",
    "\n",
    "# reshape2\n",
    "install.packages(\"reshape2\")\n",
    "\n",
    "# MASS\n",
    "install.packages(\"MASS\")"
   ]
  },
  {
   "cell_type": "markdown",
   "id": "5e7fb877",
   "metadata": {},
   "source": [
    "## Load Packages"
   ]
  },
  {
   "cell_type": "code",
   "execution_count": 33,
   "id": "6d04d189",
   "metadata": {},
   "outputs": [],
   "source": [
    "library(ComplexHeatmap)\n",
    "library(dplyr)\n",
    "library(tidyr)\n",
    "library(reshape2)\n",
    "library(stringr)\n",
    "library(MASS)"
   ]
  },
  {
   "cell_type": "markdown",
   "id": "8e8b8b97",
   "metadata": {},
   "source": [
    "## Load Dataframe"
   ]
  },
  {
   "cell_type": "code",
   "execution_count": 58,
   "id": "39aa66a6",
   "metadata": {},
   "outputs": [
    {
     "data": {
      "text/html": [
       "<table class=\"dataframe\">\n",
       "<caption>A data.frame: 6 × 8</caption>\n",
       "<thead>\n",
       "\t<tr><th></th><th scope=col>Peak_Counts</th><th scope=col>Project</th><th scope=col>Control</th><th scope=col>Peak_Type</th><th scope=col>Aligner</th><th scope=col>Peak_Caller</th><th scope=col>Deduplicator</th><th scope=col>Test</th></tr>\n",
       "\t<tr><th></th><th scope=col>&lt;int&gt;</th><th scope=col>&lt;chr&gt;</th><th scope=col>&lt;chr&gt;</th><th scope=col>&lt;chr&gt;</th><th scope=col>&lt;chr&gt;</th><th scope=col>&lt;chr&gt;</th><th scope=col>&lt;chr&gt;</th><th scope=col>&lt;chr&gt;</th></tr>\n",
       "</thead>\n",
       "<tbody>\n",
       "\t<tr><th scope=row>1</th><td>308549</td><td>Namani</td><td>no_control</td><td>broad</td><td>STAR</td><td>genrich</td><td>no_deduplication</td><td>test1</td></tr>\n",
       "\t<tr><th scope=row>2</th><td>308549</td><td>Namani</td><td>no_control</td><td>broad</td><td>STAR</td><td>genrich</td><td>no_deduplication</td><td>test2</td></tr>\n",
       "\t<tr><th scope=row>3</th><td>308549</td><td>Namani</td><td>no_control</td><td>broad</td><td>STAR</td><td>genrich</td><td>no_deduplication</td><td>test3</td></tr>\n",
       "\t<tr><th scope=row>4</th><td>216046</td><td>Namani</td><td>no_control</td><td>broad</td><td>STAR</td><td>genrich</td><td>picard          </td><td>test1</td></tr>\n",
       "\t<tr><th scope=row>5</th><td>216046</td><td>Namani</td><td>no_control</td><td>broad</td><td>STAR</td><td>genrich</td><td>picard          </td><td>test2</td></tr>\n",
       "\t<tr><th scope=row>6</th><td>216046</td><td>Namani</td><td>no_control</td><td>broad</td><td>STAR</td><td>genrich</td><td>picard          </td><td>test3</td></tr>\n",
       "</tbody>\n",
       "</table>\n"
      ],
      "text/latex": [
       "A data.frame: 6 × 8\n",
       "\\begin{tabular}{r|llllllll}\n",
       "  & Peak\\_Counts & Project & Control & Peak\\_Type & Aligner & Peak\\_Caller & Deduplicator & Test\\\\\n",
       "  & <int> & <chr> & <chr> & <chr> & <chr> & <chr> & <chr> & <chr>\\\\\n",
       "\\hline\n",
       "\t1 & 308549 & Namani & no\\_control & broad & STAR & genrich & no\\_deduplication & test1\\\\\n",
       "\t2 & 308549 & Namani & no\\_control & broad & STAR & genrich & no\\_deduplication & test2\\\\\n",
       "\t3 & 308549 & Namani & no\\_control & broad & STAR & genrich & no\\_deduplication & test3\\\\\n",
       "\t4 & 216046 & Namani & no\\_control & broad & STAR & genrich & picard           & test1\\\\\n",
       "\t5 & 216046 & Namani & no\\_control & broad & STAR & genrich & picard           & test2\\\\\n",
       "\t6 & 216046 & Namani & no\\_control & broad & STAR & genrich & picard           & test3\\\\\n",
       "\\end{tabular}\n"
      ],
      "text/markdown": [
       "\n",
       "A data.frame: 6 × 8\n",
       "\n",
       "| <!--/--> | Peak_Counts &lt;int&gt; | Project &lt;chr&gt; | Control &lt;chr&gt; | Peak_Type &lt;chr&gt; | Aligner &lt;chr&gt; | Peak_Caller &lt;chr&gt; | Deduplicator &lt;chr&gt; | Test &lt;chr&gt; |\n",
       "|---|---|---|---|---|---|---|---|---|\n",
       "| 1 | 308549 | Namani | no_control | broad | STAR | genrich | no_deduplication | test1 |\n",
       "| 2 | 308549 | Namani | no_control | broad | STAR | genrich | no_deduplication | test2 |\n",
       "| 3 | 308549 | Namani | no_control | broad | STAR | genrich | no_deduplication | test3 |\n",
       "| 4 | 216046 | Namani | no_control | broad | STAR | genrich | picard           | test1 |\n",
       "| 5 | 216046 | Namani | no_control | broad | STAR | genrich | picard           | test2 |\n",
       "| 6 | 216046 | Namani | no_control | broad | STAR | genrich | picard           | test3 |\n",
       "\n"
      ],
      "text/plain": [
       "  Peak_Counts Project Control    Peak_Type Aligner Peak_Caller Deduplicator    \n",
       "1 308549      Namani  no_control broad     STAR    genrich     no_deduplication\n",
       "2 308549      Namani  no_control broad     STAR    genrich     no_deduplication\n",
       "3 308549      Namani  no_control broad     STAR    genrich     no_deduplication\n",
       "4 216046      Namani  no_control broad     STAR    genrich     picard          \n",
       "5 216046      Namani  no_control broad     STAR    genrich     picard          \n",
       "6 216046      Namani  no_control broad     STAR    genrich     picard          \n",
       "  Test \n",
       "1 test1\n",
       "2 test2\n",
       "3 test3\n",
       "4 test1\n",
       "5 test2\n",
       "6 test3"
      ]
     },
     "metadata": {},
     "output_type": "display_data"
    },
    {
     "name": "stdout",
     "output_type": "stream",
     "text": [
      "Min Peaks: 29 \n",
      "Max Peaks: 1736340 \n"
     ]
    }
   ],
   "source": [
    "# Load data\n",
    "df <- read.csv(\"peak_counts.csv\", header = TRUE)\n",
    "\n",
    "# Remove unnecessary data columns\n",
    "df$Filename <- NULL\n",
    "df$Peaks <- NULL\n",
    "\n",
    "# View data\n",
    "head(df)\n",
    "\n",
    "# View peak counts\n",
    "cat(\"Min Peaks:\", min(df$Peak_Counts), \"\\n\")\n",
    "cat(\"Max Peaks:\", max(df$Peak_Counts), \"\\n\")"
   ]
  },
  {
   "cell_type": "code",
   "execution_count": 59,
   "id": "5e5feca8",
   "metadata": {},
   "outputs": [
    {
     "name": "stdout",
     "output_type": "stream",
     "text": [
      "Min Peaks: 1.462398 \n",
      "Max Peaks: 6.239635 \n"
     ]
    }
   ],
   "source": [
    "# Log10 transform data\n",
    "df$Peak_Counts <- log10(df$Peak_Counts)\n",
    "\n",
    "# View log-transformed peak counts\n",
    "cat(\"Min Peaks:\", min(df$Peak_Counts), \"\\n\")\n",
    "cat(\"Max Peaks:\", max(df$Peak_Counts), \"\\n\")"
   ]
  },
  {
   "cell_type": "code",
   "execution_count": 8,
   "id": "c59c2654",
   "metadata": {},
   "outputs": [
    {
     "name": "stdout",
     "output_type": "stream",
     "text": [
      "Min Peaks: 4.857981 \n",
      "Max Peaks: 20.72762 \n"
     ]
    }
   ],
   "source": [
    "# Log2 transform data\n",
    "#df$Peak_Counts <- log2(df$Peak_Counts)\n",
    "\n",
    "# View log-transformed peak counts\n",
    "#cat(\"Min Peaks:\", min(df$Peak_Counts), \"\\n\")\n",
    "#cat(\"Max Peaks:\", max(df$Peak_Counts), \"\\n\")"
   ]
  },
  {
   "cell_type": "code",
   "execution_count": 20,
   "id": "4e38f21c",
   "metadata": {},
   "outputs": [
    {
     "name": "stdout",
     "output_type": "stream",
     "text": [
      "Min Peaks: 3.367296 \n",
      "Max Peaks: 14.36729 \n"
     ]
    }
   ],
   "source": [
    "# Natural log transform data\n",
    "#df$Peak_Counts <- log(df$Peak_Counts)\n",
    "\n",
    "# View log-transformed peak counts\n",
    "#cat(\"Min Peaks:\", min(df$Peak_Counts), \"\\n\")\n",
    "#cat(\"Max Peaks:\", max(df$Peak_Counts), \"\\n\")"
   ]
  },
  {
   "cell_type": "code",
   "execution_count": 46,
   "id": "a8f0b762",
   "metadata": {},
   "outputs": [
    {
     "name": "stdout",
     "output_type": "stream",
     "text": [
      "Min Peaks: 4.312992 \n",
      "Max Peaks: 46.8647 \n"
     ]
    },
    {
     "data": {
      "image/png": "[encoded data removed]",
      "text/plain": [
       "plot without title"
      ]
     },
     "metadata": {
      "image/png": {
       "height": 420,
       "width": 420
      }
     },
     "output_type": "display_data"
    }
   ],
   "source": [
    "# Box-Cox transform data\n",
    "#boxcox_trans <- boxcox(df$Peak_Counts ~ 1, lambda = seq(-2, 2, by = 0.1))\n",
    "\n",
    "# Find the optimal lambda\n",
    "#best_lambda <- boxcox_trans$x[which.max(boxcox_trans$y)]\n",
    "\n",
    "# Apply the Box-Cox transformation using the optimal lambda\n",
    "#df$Peak_Counts <- (df$Peak_Counts^best_lambda - 1) / best_lambda\n",
    "\n",
    "# View transformed peak counts\n",
    "#cat(\"Min Peaks:\", min(df$Peak_Counts), \"\\n\")\n",
    "#cat(\"Max Peaks:\", max(df$Peak_Counts), \"\\n\")"
   ]
  },
  {
   "cell_type": "code",
   "execution_count": 60,
   "id": "c2d05321",
   "metadata": {},
   "outputs": [],
   "source": [
    "# Format data\n",
    "\n",
    "# Select data of interest\n",
    "heatmap_data <- df[c(\"Peak_Counts\", \"Project\", \"Control\", \"Peak_Type\", \"Aligner\", \"Peak_Caller\", \"Deduplicator\", \"Test\")]\n",
    "\n",
    "# Combine variables for plotting\n",
    "heatmap_data$x_axis_labels <- paste(heatmap_data$Peak_Caller, heatmap_data$Deduplicator, heatmap_data$Test, sep = \"_\")\n",
    "heatmap_data$y_axis_labels <- paste(heatmap_data$Control, heatmap_data$Peak_Type, heatmap_data$Aligner, sep = \"_\")"
   ]
  },
  {
   "cell_type": "markdown",
   "id": "dafd7560",
   "metadata": {},
   "source": [
    "## Namani et al. 2019"
   ]
  },
  {
   "cell_type": "markdown",
   "id": "c0d3aabb",
   "metadata": {},
   "source": [
    "### Create matrix"
   ]
  },
  {
   "cell_type": "code",
   "execution_count": 61,
   "id": "09f3d91b",
   "metadata": {},
   "outputs": [
    {
     "data": {
      "text/html": [
       "<table class=\"dataframe\">\n",
       "<caption>A matrix: 6 × 12 of type dbl</caption>\n",
       "<thead>\n",
       "\t<tr><th></th><th scope=col>no_control_broad_bowtie2</th><th scope=col>no_control_broad_bwa_mem</th><th scope=col>no_control_broad_STAR</th><th scope=col>no_control_narrow_bowtie2</th><th scope=col>no_control_narrow_bwa_mem</th><th scope=col>no_control_narrow_STAR</th><th scope=col>with_control_broad_bowtie2</th><th scope=col>with_control_broad_bwa_mem</th><th scope=col>with_control_broad_STAR</th><th scope=col>with_control_narrow_bowtie2</th><th scope=col>with_control_narrow_bwa_mem</th><th scope=col>with_control_narrow_STAR</th></tr>\n",
       "</thead>\n",
       "<tbody>\n",
       "\t<tr><th scope=row>cisgenome_no_deduplication_test1</th><td>NA</td><td>NA</td><td>NA</td><td>NA</td><td>NA</td><td>NA</td><td>3.800305</td><td>3.803389</td><td>3.828982</td><td>3.800305</td><td>3.803389</td><td>3.828982</td></tr>\n",
       "\t<tr><th scope=row>cisgenome_no_deduplication_test2</th><td>NA</td><td>NA</td><td>NA</td><td>NA</td><td>NA</td><td>NA</td><td>3.800305</td><td>3.803389</td><td>3.828982</td><td>3.800305</td><td>3.803389</td><td>3.828982</td></tr>\n",
       "\t<tr><th scope=row>cisgenome_no_deduplication_test3</th><td>NA</td><td>NA</td><td>NA</td><td>NA</td><td>NA</td><td>NA</td><td>3.800305</td><td>3.803389</td><td>3.828982</td><td>3.800305</td><td>3.803389</td><td>3.828982</td></tr>\n",
       "\t<tr><th scope=row>cisgenome_picard_test1</th><td>NA</td><td>NA</td><td>NA</td><td>NA</td><td>NA</td><td>NA</td><td>3.544564</td><td>3.554004</td><td>3.562412</td><td>3.544564</td><td>3.554004</td><td>3.562412</td></tr>\n",
       "\t<tr><th scope=row>cisgenome_picard_test2</th><td>NA</td><td>NA</td><td>NA</td><td>NA</td><td>NA</td><td>NA</td><td>3.544564</td><td>3.554004</td><td>3.562412</td><td>3.544564</td><td>3.554004</td><td>3.562412</td></tr>\n",
       "\t<tr><th scope=row>cisgenome_picard_test3</th><td>NA</td><td>NA</td><td>NA</td><td>NA</td><td>NA</td><td>NA</td><td>3.544564</td><td>3.554004</td><td>3.562412</td><td>3.544564</td><td>3.554004</td><td>3.562412</td></tr>\n",
       "</tbody>\n",
       "</table>\n"
      ],
      "text/latex": [
       "A matrix: 6 × 12 of type dbl\n",
       "\\begin{tabular}{r|llllllllllll}\n",
       "  & no\\_control\\_broad\\_bowtie2 & no\\_control\\_broad\\_bwa\\_mem & no\\_control\\_broad\\_STAR & no\\_control\\_narrow\\_bowtie2 & no\\_control\\_narrow\\_bwa\\_mem & no\\_control\\_narrow\\_STAR & with\\_control\\_broad\\_bowtie2 & with\\_control\\_broad\\_bwa\\_mem & with\\_control\\_broad\\_STAR & with\\_control\\_narrow\\_bowtie2 & with\\_control\\_narrow\\_bwa\\_mem & with\\_control\\_narrow\\_STAR\\\\\n",
       "\\hline\n",
       "\tcisgenome\\_no\\_deduplication\\_test1 & NA & NA & NA & NA & NA & NA & 3.800305 & 3.803389 & 3.828982 & 3.800305 & 3.803389 & 3.828982\\\\\n",
       "\tcisgenome\\_no\\_deduplication\\_test2 & NA & NA & NA & NA & NA & NA & 3.800305 & 3.803389 & 3.828982 & 3.800305 & 3.803389 & 3.828982\\\\\n",
       "\tcisgenome\\_no\\_deduplication\\_test3 & NA & NA & NA & NA & NA & NA & 3.800305 & 3.803389 & 3.828982 & 3.800305 & 3.803389 & 3.828982\\\\\n",
       "\tcisgenome\\_picard\\_test1 & NA & NA & NA & NA & NA & NA & 3.544564 & 3.554004 & 3.562412 & 3.544564 & 3.554004 & 3.562412\\\\\n",
       "\tcisgenome\\_picard\\_test2 & NA & NA & NA & NA & NA & NA & 3.544564 & 3.554004 & 3.562412 & 3.544564 & 3.554004 & 3.562412\\\\\n",
       "\tcisgenome\\_picard\\_test3 & NA & NA & NA & NA & NA & NA & 3.544564 & 3.554004 & 3.562412 & 3.544564 & 3.554004 & 3.562412\\\\\n",
       "\\end{tabular}\n"
      ],
      "text/markdown": [
       "\n",
       "A matrix: 6 × 12 of type dbl\n",
       "\n",
       "| <!--/--> | no_control_broad_bowtie2 | no_control_broad_bwa_mem | no_control_broad_STAR | no_control_narrow_bowtie2 | no_control_narrow_bwa_mem | no_control_narrow_STAR | with_control_broad_bowtie2 | with_control_broad_bwa_mem | with_control_broad_STAR | with_control_narrow_bowtie2 | with_control_narrow_bwa_mem | with_control_narrow_STAR |\n",
       "|---|---|---|---|---|---|---|---|---|---|---|---|---|\n",
       "| cisgenome_no_deduplication_test1 | NA | NA | NA | NA | NA | NA | 3.800305 | 3.803389 | 3.828982 | 3.800305 | 3.803389 | 3.828982 |\n",
       "| cisgenome_no_deduplication_test2 | NA | NA | NA | NA | NA | NA | 3.800305 | 3.803389 | 3.828982 | 3.800305 | 3.803389 | 3.828982 |\n",
       "| cisgenome_no_deduplication_test3 | NA | NA | NA | NA | NA | NA | 3.800305 | 3.803389 | 3.828982 | 3.800305 | 3.803389 | 3.828982 |\n",
       "| cisgenome_picard_test1 | NA | NA | NA | NA | NA | NA | 3.544564 | 3.554004 | 3.562412 | 3.544564 | 3.554004 | 3.562412 |\n",
       "| cisgenome_picard_test2 | NA | NA | NA | NA | NA | NA | 3.544564 | 3.554004 | 3.562412 | 3.544564 | 3.554004 | 3.562412 |\n",
       "| cisgenome_picard_test3 | NA | NA | NA | NA | NA | NA | 3.544564 | 3.554004 | 3.562412 | 3.544564 | 3.554004 | 3.562412 |\n",
       "\n"
      ],
      "text/plain": [
       "                                 no_control_broad_bowtie2\n",
       "cisgenome_no_deduplication_test1 NA                      \n",
       "cisgenome_no_deduplication_test2 NA                      \n",
       "cisgenome_no_deduplication_test3 NA                      \n",
       "cisgenome_picard_test1           NA                      \n",
       "cisgenome_picard_test2           NA                      \n",
       "cisgenome_picard_test3           NA                      \n",
       "                                 no_control_broad_bwa_mem no_control_broad_STAR\n",
       "cisgenome_no_deduplication_test1 NA                       NA                   \n",
       "cisgenome_no_deduplication_test2 NA                       NA                   \n",
       "cisgenome_no_deduplication_test3 NA                       NA                   \n",
       "cisgenome_picard_test1           NA                       NA                   \n",
       "cisgenome_picard_test2           NA                       NA                   \n",
       "cisgenome_picard_test3           NA                       NA                   \n",
       "                                 no_control_narrow_bowtie2\n",
       "cisgenome_no_deduplication_test1 NA                       \n",
       "cisgenome_no_deduplication_test2 NA                       \n",
       "cisgenome_no_deduplication_test3 NA                       \n",
       "cisgenome_picard_test1           NA                       \n",
       "cisgenome_picard_test2           NA                       \n",
       "cisgenome_picard_test3           NA                       \n",
       "                                 no_control_narrow_bwa_mem\n",
       "cisgenome_no_deduplication_test1 NA                       \n",
       "cisgenome_no_deduplication_test2 NA                       \n",
       "cisgenome_no_deduplication_test3 NA                       \n",
       "cisgenome_picard_test1           NA                       \n",
       "cisgenome_picard_test2           NA                       \n",
       "cisgenome_picard_test3           NA                       \n",
       "                                 no_control_narrow_STAR\n",
       "cisgenome_no_deduplication_test1 NA                    \n",
       "cisgenome_no_deduplication_test2 NA                    \n",
       "cisgenome_no_deduplication_test3 NA                    \n",
       "cisgenome_picard_test1           NA                    \n",
       "cisgenome_picard_test2           NA                    \n",
       "cisgenome_picard_test3           NA                    \n",
       "                                 with_control_broad_bowtie2\n",
       "cisgenome_no_deduplication_test1 3.800305                  \n",
       "cisgenome_no_deduplication_test2 3.800305                  \n",
       "cisgenome_no_deduplication_test3 3.800305                  \n",
       "cisgenome_picard_test1           3.544564                  \n",
       "cisgenome_picard_test2           3.544564                  \n",
       "cisgenome_picard_test3           3.544564                  \n",
       "                                 with_control_broad_bwa_mem\n",
       "cisgenome_no_deduplication_test1 3.803389                  \n",
       "cisgenome_no_deduplication_test2 3.803389                  \n",
       "cisgenome_no_deduplication_test3 3.803389                  \n",
       "cisgenome_picard_test1           3.554004                  \n",
       "cisgenome_picard_test2           3.554004                  \n",
       "cisgenome_picard_test3           3.554004                  \n",
       "                                 with_control_broad_STAR\n",
       "cisgenome_no_deduplication_test1 3.828982               \n",
       "cisgenome_no_deduplication_test2 3.828982               \n",
       "cisgenome_no_deduplication_test3 3.828982               \n",
       "cisgenome_picard_test1           3.562412               \n",
       "cisgenome_picard_test2           3.562412               \n",
       "cisgenome_picard_test3           3.562412               \n",
       "                                 with_control_narrow_bowtie2\n",
       "cisgenome_no_deduplication_test1 3.800305                   \n",
       "cisgenome_no_deduplication_test2 3.800305                   \n",
       "cisgenome_no_deduplication_test3 3.800305                   \n",
       "cisgenome_picard_test1           3.544564                   \n",
       "cisgenome_picard_test2           3.544564                   \n",
       "cisgenome_picard_test3           3.544564                   \n",
       "                                 with_control_narrow_bwa_mem\n",
       "cisgenome_no_deduplication_test1 3.803389                   \n",
       "cisgenome_no_deduplication_test2 3.803389                   \n",
       "cisgenome_no_deduplication_test3 3.803389                   \n",
       "cisgenome_picard_test1           3.554004                   \n",
       "cisgenome_picard_test2           3.554004                   \n",
       "cisgenome_picard_test3           3.554004                   \n",
       "                                 with_control_narrow_STAR\n",
       "cisgenome_no_deduplication_test1 3.828982                \n",
       "cisgenome_no_deduplication_test2 3.828982                \n",
       "cisgenome_no_deduplication_test3 3.828982                \n",
       "cisgenome_picard_test1           3.562412                \n",
       "cisgenome_picard_test2           3.562412                \n",
       "cisgenome_picard_test3           3.562412                "
      ]
     },
     "metadata": {},
     "output_type": "display_data"
    }
   ],
   "source": [
    "# Subset for Namani data\n",
    "Namani <- heatmap_data[heatmap_data$Project == \"Namani\", ]\n",
    "\n",
    "# Melt the data from the heatmap_data dataframe\n",
    "melted_Namani <- melt(Namani, id.vars = c(\"x_axis_labels\", \"y_axis_labels\"), measure.vars = \"Peak_Counts\")\n",
    "\n",
    "# Cast the data into the desired format\n",
    "casted_Namani <- dcast(melted_Namani, y_axis_labels ~ x_axis_labels, value.var = \"value\")\n",
    "\n",
    "# Generate matrices\n",
    "rownames(casted_Namani) <- casted_Namani$y_axis_labels\n",
    "casted_Namani$y_axis_labels <- NULL\n",
    "Namani_matrix <- as.matrix(casted_Namani)\n",
    "\n",
    "# Transpose matrix to switch rows and columns\n",
    "Namani_matrix <- t(Namani_matrix)\n",
    "\n",
    "head(Namani_matrix)"
   ]
  },
  {
   "cell_type": "markdown",
   "id": "fb98c050",
   "metadata": {},
   "source": [
    "### Prepare metadata "
   ]
  },
  {
   "cell_type": "code",
   "execution_count": 62,
   "id": "3ad55aa7",
   "metadata": {},
   "outputs": [
    {
     "data": {
      "text/html": [
       "<table class=\"dataframe\">\n",
       "<caption>A data.frame: 6 × 15</caption>\n",
       "<thead>\n",
       "\t<tr><th></th><th scope=col>no_control_broad_bowtie2</th><th scope=col>no_control_broad_bwa_mem</th><th scope=col>no_control_broad_STAR</th><th scope=col>no_control_narrow_bowtie2</th><th scope=col>no_control_narrow_bwa_mem</th><th scope=col>no_control_narrow_STAR</th><th scope=col>with_control_broad_bowtie2</th><th scope=col>with_control_broad_bwa_mem</th><th scope=col>with_control_broad_STAR</th><th scope=col>with_control_narrow_bowtie2</th><th scope=col>with_control_narrow_bwa_mem</th><th scope=col>with_control_narrow_STAR</th><th scope=col>Peak_Caller</th><th scope=col>Deduplicator</th><th scope=col>Test</th></tr>\n",
       "\t<tr><th></th><th scope=col>&lt;dbl&gt;</th><th scope=col>&lt;dbl&gt;</th><th scope=col>&lt;dbl&gt;</th><th scope=col>&lt;dbl&gt;</th><th scope=col>&lt;dbl&gt;</th><th scope=col>&lt;dbl&gt;</th><th scope=col>&lt;dbl&gt;</th><th scope=col>&lt;dbl&gt;</th><th scope=col>&lt;dbl&gt;</th><th scope=col>&lt;dbl&gt;</th><th scope=col>&lt;dbl&gt;</th><th scope=col>&lt;dbl&gt;</th><th scope=col>&lt;chr&gt;</th><th scope=col>&lt;chr&gt;</th><th scope=col>&lt;int&gt;</th></tr>\n",
       "</thead>\n",
       "<tbody>\n",
       "\t<tr><th scope=row>cisgenome_no_deduplication_test1</th><td>NA</td><td>NA</td><td>NA</td><td>NA</td><td>NA</td><td>NA</td><td>3.800305</td><td>3.803389</td><td>3.828982</td><td>3.800305</td><td>3.803389</td><td>3.828982</td><td>Cisgenome</td><td>None  </td><td>1</td></tr>\n",
       "\t<tr><th scope=row>cisgenome_no_deduplication_test2</th><td>NA</td><td>NA</td><td>NA</td><td>NA</td><td>NA</td><td>NA</td><td>3.800305</td><td>3.803389</td><td>3.828982</td><td>3.800305</td><td>3.803389</td><td>3.828982</td><td>Cisgenome</td><td>None  </td><td>2</td></tr>\n",
       "\t<tr><th scope=row>cisgenome_no_deduplication_test3</th><td>NA</td><td>NA</td><td>NA</td><td>NA</td><td>NA</td><td>NA</td><td>3.800305</td><td>3.803389</td><td>3.828982</td><td>3.800305</td><td>3.803389</td><td>3.828982</td><td>Cisgenome</td><td>None  </td><td>3</td></tr>\n",
       "\t<tr><th scope=row>cisgenome_picard_test1</th><td>NA</td><td>NA</td><td>NA</td><td>NA</td><td>NA</td><td>NA</td><td>3.544564</td><td>3.554004</td><td>3.562412</td><td>3.544564</td><td>3.554004</td><td>3.562412</td><td>Cisgenome</td><td>Picard</td><td>1</td></tr>\n",
       "\t<tr><th scope=row>cisgenome_picard_test2</th><td>NA</td><td>NA</td><td>NA</td><td>NA</td><td>NA</td><td>NA</td><td>3.544564</td><td>3.554004</td><td>3.562412</td><td>3.544564</td><td>3.554004</td><td>3.562412</td><td>Cisgenome</td><td>Picard</td><td>2</td></tr>\n",
       "\t<tr><th scope=row>cisgenome_picard_test3</th><td>NA</td><td>NA</td><td>NA</td><td>NA</td><td>NA</td><td>NA</td><td>3.544564</td><td>3.554004</td><td>3.562412</td><td>3.544564</td><td>3.554004</td><td>3.562412</td><td>Cisgenome</td><td>Picard</td><td>3</td></tr>\n",
       "</tbody>\n",
       "</table>\n"
      ],
      "text/latex": [
       "A data.frame: 6 × 15\n",
       "\\begin{tabular}{r|lllllllllllllll}\n",
       "  & no\\_control\\_broad\\_bowtie2 & no\\_control\\_broad\\_bwa\\_mem & no\\_control\\_broad\\_STAR & no\\_control\\_narrow\\_bowtie2 & no\\_control\\_narrow\\_bwa\\_mem & no\\_control\\_narrow\\_STAR & with\\_control\\_broad\\_bowtie2 & with\\_control\\_broad\\_bwa\\_mem & with\\_control\\_broad\\_STAR & with\\_control\\_narrow\\_bowtie2 & with\\_control\\_narrow\\_bwa\\_mem & with\\_control\\_narrow\\_STAR & Peak\\_Caller & Deduplicator & Test\\\\\n",
       "  & <dbl> & <dbl> & <dbl> & <dbl> & <dbl> & <dbl> & <dbl> & <dbl> & <dbl> & <dbl> & <dbl> & <dbl> & <chr> & <chr> & <int>\\\\\n",
       "\\hline\n",
       "\tcisgenome\\_no\\_deduplication\\_test1 & NA & NA & NA & NA & NA & NA & 3.800305 & 3.803389 & 3.828982 & 3.800305 & 3.803389 & 3.828982 & Cisgenome & None   & 1\\\\\n",
       "\tcisgenome\\_no\\_deduplication\\_test2 & NA & NA & NA & NA & NA & NA & 3.800305 & 3.803389 & 3.828982 & 3.800305 & 3.803389 & 3.828982 & Cisgenome & None   & 2\\\\\n",
       "\tcisgenome\\_no\\_deduplication\\_test3 & NA & NA & NA & NA & NA & NA & 3.800305 & 3.803389 & 3.828982 & 3.800305 & 3.803389 & 3.828982 & Cisgenome & None   & 3\\\\\n",
       "\tcisgenome\\_picard\\_test1 & NA & NA & NA & NA & NA & NA & 3.544564 & 3.554004 & 3.562412 & 3.544564 & 3.554004 & 3.562412 & Cisgenome & Picard & 1\\\\\n",
       "\tcisgenome\\_picard\\_test2 & NA & NA & NA & NA & NA & NA & 3.544564 & 3.554004 & 3.562412 & 3.544564 & 3.554004 & 3.562412 & Cisgenome & Picard & 2\\\\\n",
       "\tcisgenome\\_picard\\_test3 & NA & NA & NA & NA & NA & NA & 3.544564 & 3.554004 & 3.562412 & 3.544564 & 3.554004 & 3.562412 & Cisgenome & Picard & 3\\\\\n",
       "\\end{tabular}\n"
      ],
      "text/markdown": [
       "\n",
       "A data.frame: 6 × 15\n",
       "\n",
       "| <!--/--> | no_control_broad_bowtie2 &lt;dbl&gt; | no_control_broad_bwa_mem &lt;dbl&gt; | no_control_broad_STAR &lt;dbl&gt; | no_control_narrow_bowtie2 &lt;dbl&gt; | no_control_narrow_bwa_mem &lt;dbl&gt; | no_control_narrow_STAR &lt;dbl&gt; | with_control_broad_bowtie2 &lt;dbl&gt; | with_control_broad_bwa_mem &lt;dbl&gt; | with_control_broad_STAR &lt;dbl&gt; | with_control_narrow_bowtie2 &lt;dbl&gt; | with_control_narrow_bwa_mem &lt;dbl&gt; | with_control_narrow_STAR &lt;dbl&gt; | Peak_Caller &lt;chr&gt; | Deduplicator &lt;chr&gt; | Test &lt;int&gt; |\n",
       "|---|---|---|---|---|---|---|---|---|---|---|---|---|---|---|---|\n",
       "| cisgenome_no_deduplication_test1 | NA | NA | NA | NA | NA | NA | 3.800305 | 3.803389 | 3.828982 | 3.800305 | 3.803389 | 3.828982 | Cisgenome | None   | 1 |\n",
       "| cisgenome_no_deduplication_test2 | NA | NA | NA | NA | NA | NA | 3.800305 | 3.803389 | 3.828982 | 3.800305 | 3.803389 | 3.828982 | Cisgenome | None   | 2 |\n",
       "| cisgenome_no_deduplication_test3 | NA | NA | NA | NA | NA | NA | 3.800305 | 3.803389 | 3.828982 | 3.800305 | 3.803389 | 3.828982 | Cisgenome | None   | 3 |\n",
       "| cisgenome_picard_test1 | NA | NA | NA | NA | NA | NA | 3.544564 | 3.554004 | 3.562412 | 3.544564 | 3.554004 | 3.562412 | Cisgenome | Picard | 1 |\n",
       "| cisgenome_picard_test2 | NA | NA | NA | NA | NA | NA | 3.544564 | 3.554004 | 3.562412 | 3.544564 | 3.554004 | 3.562412 | Cisgenome | Picard | 2 |\n",
       "| cisgenome_picard_test3 | NA | NA | NA | NA | NA | NA | 3.544564 | 3.554004 | 3.562412 | 3.544564 | 3.554004 | 3.562412 | Cisgenome | Picard | 3 |\n",
       "\n"
      ],
      "text/plain": [
       "                                 no_control_broad_bowtie2\n",
       "cisgenome_no_deduplication_test1 NA                      \n",
       "cisgenome_no_deduplication_test2 NA                      \n",
       "cisgenome_no_deduplication_test3 NA                      \n",
       "cisgenome_picard_test1           NA                      \n",
       "cisgenome_picard_test2           NA                      \n",
       "cisgenome_picard_test3           NA                      \n",
       "                                 no_control_broad_bwa_mem no_control_broad_STAR\n",
       "cisgenome_no_deduplication_test1 NA                       NA                   \n",
       "cisgenome_no_deduplication_test2 NA                       NA                   \n",
       "cisgenome_no_deduplication_test3 NA                       NA                   \n",
       "cisgenome_picard_test1           NA                       NA                   \n",
       "cisgenome_picard_test2           NA                       NA                   \n",
       "cisgenome_picard_test3           NA                       NA                   \n",
       "                                 no_control_narrow_bowtie2\n",
       "cisgenome_no_deduplication_test1 NA                       \n",
       "cisgenome_no_deduplication_test2 NA                       \n",
       "cisgenome_no_deduplication_test3 NA                       \n",
       "cisgenome_picard_test1           NA                       \n",
       "cisgenome_picard_test2           NA                       \n",
       "cisgenome_picard_test3           NA                       \n",
       "                                 no_control_narrow_bwa_mem\n",
       "cisgenome_no_deduplication_test1 NA                       \n",
       "cisgenome_no_deduplication_test2 NA                       \n",
       "cisgenome_no_deduplication_test3 NA                       \n",
       "cisgenome_picard_test1           NA                       \n",
       "cisgenome_picard_test2           NA                       \n",
       "cisgenome_picard_test3           NA                       \n",
       "                                 no_control_narrow_STAR\n",
       "cisgenome_no_deduplication_test1 NA                    \n",
       "cisgenome_no_deduplication_test2 NA                    \n",
       "cisgenome_no_deduplication_test3 NA                    \n",
       "cisgenome_picard_test1           NA                    \n",
       "cisgenome_picard_test2           NA                    \n",
       "cisgenome_picard_test3           NA                    \n",
       "                                 with_control_broad_bowtie2\n",
       "cisgenome_no_deduplication_test1 3.800305                  \n",
       "cisgenome_no_deduplication_test2 3.800305                  \n",
       "cisgenome_no_deduplication_test3 3.800305                  \n",
       "cisgenome_picard_test1           3.544564                  \n",
       "cisgenome_picard_test2           3.544564                  \n",
       "cisgenome_picard_test3           3.544564                  \n",
       "                                 with_control_broad_bwa_mem\n",
       "cisgenome_no_deduplication_test1 3.803389                  \n",
       "cisgenome_no_deduplication_test2 3.803389                  \n",
       "cisgenome_no_deduplication_test3 3.803389                  \n",
       "cisgenome_picard_test1           3.554004                  \n",
       "cisgenome_picard_test2           3.554004                  \n",
       "cisgenome_picard_test3           3.554004                  \n",
       "                                 with_control_broad_STAR\n",
       "cisgenome_no_deduplication_test1 3.828982               \n",
       "cisgenome_no_deduplication_test2 3.828982               \n",
       "cisgenome_no_deduplication_test3 3.828982               \n",
       "cisgenome_picard_test1           3.562412               \n",
       "cisgenome_picard_test2           3.562412               \n",
       "cisgenome_picard_test3           3.562412               \n",
       "                                 with_control_narrow_bowtie2\n",
       "cisgenome_no_deduplication_test1 3.800305                   \n",
       "cisgenome_no_deduplication_test2 3.800305                   \n",
       "cisgenome_no_deduplication_test3 3.800305                   \n",
       "cisgenome_picard_test1           3.544564                   \n",
       "cisgenome_picard_test2           3.544564                   \n",
       "cisgenome_picard_test3           3.544564                   \n",
       "                                 with_control_narrow_bwa_mem\n",
       "cisgenome_no_deduplication_test1 3.803389                   \n",
       "cisgenome_no_deduplication_test2 3.803389                   \n",
       "cisgenome_no_deduplication_test3 3.803389                   \n",
       "cisgenome_picard_test1           3.554004                   \n",
       "cisgenome_picard_test2           3.554004                   \n",
       "cisgenome_picard_test3           3.554004                   \n",
       "                                 with_control_narrow_STAR Peak_Caller\n",
       "cisgenome_no_deduplication_test1 3.828982                 Cisgenome  \n",
       "cisgenome_no_deduplication_test2 3.828982                 Cisgenome  \n",
       "cisgenome_no_deduplication_test3 3.828982                 Cisgenome  \n",
       "cisgenome_picard_test1           3.562412                 Cisgenome  \n",
       "cisgenome_picard_test2           3.562412                 Cisgenome  \n",
       "cisgenome_picard_test3           3.562412                 Cisgenome  \n",
       "                                 Deduplicator Test\n",
       "cisgenome_no_deduplication_test1 None         1   \n",
       "cisgenome_no_deduplication_test2 None         2   \n",
       "cisgenome_no_deduplication_test3 None         3   \n",
       "cisgenome_picard_test1           Picard       1   \n",
       "cisgenome_picard_test2           Picard       2   \n",
       "cisgenome_picard_test3           Picard       3   "
      ]
     },
     "metadata": {},
     "output_type": "display_data"
    }
   ],
   "source": [
    "# Save matrix as data frame for manipulation\n",
    "Namani_metadata <- as.data.frame(Namani_matrix)\n",
    "\n",
    "# Peak Caller\n",
    "new_row_names <- sub(\"^(.*?)_.*$\", \"\\\\1\", rownames(Namani_matrix))\n",
    "replacement_rules <- c(\"cisgenome\" = \"Cisgenome\", \"macs3\" = \"MACS3\", \"pepr\" = \"PePr\", \"genrich\" = \"Genrich\")\n",
    "new_row_names <- sapply(new_row_names, function(name) {\n",
    "  if (name %in% names(replacement_rules)) {\n",
    "    return(replacement_rules[name])\n",
    "  } else {\n",
    "    return(name)\n",
    "  }\n",
    "})\n",
    "Namani_metadata$Peak_Caller <- new_row_names\n",
    "\n",
    "# Deduplicator\n",
    "new_row_names <- str_extract(rownames(Namani_matrix), \"(?<=_)[^_]+\")\n",
    "replacement_rules <- c(\"no\" = \"None\", \"sambamba\" = \"Sambamba\", \"picard\" = \"Picard\", \"samtools\" = \"Samtools\")\n",
    "new_row_names <- sapply(new_row_names, function(name) {\n",
    "  if (name %in% names(replacement_rules)) {\n",
    "    return(replacement_rules[name])\n",
    "  } else {\n",
    "    return(name)\n",
    "  }\n",
    "})\n",
    "Namani_metadata$Deduplicator <- new_row_names\n",
    "\n",
    "# Test_Dataset\n",
    "Namani_metadata$Test <- as.integer(gsub(\".*_test(\\\\d+)$\", \"\\\\1\", rownames(Namani_matrix)))\n",
    "\n",
    "# View\n",
    "head(Namani_metadata)"
   ]
  },
  {
   "cell_type": "markdown",
   "id": "8c5bc68d",
   "metadata": {},
   "source": [
    "### Create heatmap"
   ]
  },
  {
   "cell_type": "code",
   "execution_count": 63,
   "id": "7c459a28",
   "metadata": {},
   "outputs": [],
   "source": [
    "# Annotation objects\n",
    "\n",
    "# Define the desired order for test number\n",
    "test_number <- c(\"1\", \"2\", \"3\")\n",
    "\n",
    "# Define the desired order for peak type\n",
    "desired_column_order <- c(\n",
    "    \"with_control_broad_bowtie2\", \"with_control_broad_bwa_mem\", \"with_control_broad_STAR\", \n",
    "    \"with_control_narrow_bowtie2\", \"with_control_narrow_bwa_mem\", \"with_control_narrow_STAR\",\n",
    "    \"no_control_broad_bowtie2\", \"no_control_broad_bwa_mem\", \"no_control_broad_STAR\", \n",
    "    \"no_control_narrow_bowtie2\", \"no_control_narrow_bwa_mem\", \"no_control_narrow_STAR\"\n",
    ")\n",
    "\n",
    "# Rearrange the columns in matrix\n",
    "Namani_matrix_reordered <- Namani_matrix[, desired_column_order]\n",
    "\n",
    "# Define custom grouping factor for column_split\n",
    "n_blocks <- 4\n",
    "n_columns_per_block <- 3\n",
    "block_labels <- rep(1:n_blocks, each = n_columns_per_block)\n",
    "block_split_factor <- factor(block_labels)\n",
    "\n",
    "# Split rows by peak caller\n",
    "row_split_factor <- factor(Namani_metadata$Peak_Caller)\n",
    "\n",
    "# Row annotations\n",
    "row_ha <- rowAnnotation(\n",
    "  `Peak Caller` = factor(Namani_metadata$Peak_Caller, levels = c(\"Cisgenome\", \"Genrich\", \"MACS3\", \"PePr\")),\n",
    "  `Deduplicator` = factor(Namani_metadata$Deduplicator, levels = c(\"None\", \"Picard\", \"Sambamba\", \"Samtools\")),\n",
    "  `Test Number` = factor(Namani_metadata$Test, levels = test_number),\n",
    "  col = list(\n",
    "    `Peak Caller` = c(\"Cisgenome\" = \"#c2ffc3\", \"Genrich\" = \"#90ec7c\", \"MACS3\" = \"#00b22a\", \"PePr\" = \"#006b05\"),\n",
    "    `Deduplicator` = c(\"None\" = \"#e6e6fa\", \"Picard\" = \"#aea3e0\", \"Sambamba\" = \"#835fbd\", \"Samtools\" = \"#620093\"),\n",
    "    `Test Number` = c(\"1\" = \"#00CCFF\", \"2\" = \"#007AFF\", \"3\" = \"#0000FF\")\n",
    "  )\n",
    ")\n",
    "\n",
    "# Column annotations\n",
    "col_ha <- HeatmapAnnotation(\n",
    "  `Endedness` = factor(c(rep(\"Control\", 6), rep(\"No Control\", 6)), levels = c(\"Control\", \"No Control\")),\n",
    "  `Peak Type` = factor(c(rep(\"Broad\", 3), rep(\"Narrow\", 3), rep(\"Broad\", 3), rep(\"Narrow\", 3)), levels = c(\"Broad\", \"Narrow\")),\n",
    "  `Aligner` = factor(c(\"Bowtie2\", \"BWA-MEM\", \"STAR\", \"Bowtie2\", \"BWA-MEM\", \"STAR\", \"Bowtie2\", \"BWA-MEM\", \"STAR\", \"Bowtie2\", \"BWA-MEM\", \"STAR\"), levels = c(\"Bowtie2\", \"BWA-MEM\", \"STAR\")),\n",
    "  col = list(\n",
    "    `Endedness` = c(\"Control\" = \"#f7d3db\", \"No Control\" = \"#eb647e\"),\n",
    "    `Peak Type` = c(\"Broad\" = \"#ff9a00\", \"Narrow\" = \"#ff4d00\"),\n",
    "    `Aligner` = c(\"Bowtie2\" = \"#ff0000\", \"BWA-MEM\" = \"#8c0000\", \"STAR\" = \"#400000\")\n",
    "  )\n",
    ")"
   ]
  },
  {
   "cell_type": "code",
   "execution_count": 64,
   "id": "bd096e95",
   "metadata": {},
   "outputs": [
    {
     "data": {
      "text/html": [
       "<style>\n",
       ".list-inline {list-style: none; margin:0; padding: 0}\n",
       ".list-inline>li {display: inline-block}\n",
       ".list-inline>li:not(:last-child)::after {content: \"\\00b7\"; padding: 0 .5ex}\n",
       "</style>\n",
       "<ol class=list-inline><li>5.57417015315489</li><li>5.94981932200878</li></ol>\n"
      ],
      "text/latex": [
       "\\begin{enumerate*}\n",
       "\\item 5.57417015315489\n",
       "\\item 5.94981932200878\n",
       "\\end{enumerate*}\n"
      ],
      "text/markdown": [
       "1. 5.57417015315489\n",
       "2. 5.94981932200878\n",
       "\n",
       "\n"
      ],
      "text/plain": [
       "[1] 5.574170 5.949819"
      ]
     },
     "metadata": {},
     "output_type": "display_data"
    },
    {
     "data": {
      "text/html": [
       "<strong>png:</strong> 2"
      ],
      "text/latex": [
       "\\textbf{png:} 2"
      ],
      "text/markdown": [
       "**png:** 2"
      ],
      "text/plain": [
       "png \n",
       "  2 "
      ]
     },
     "metadata": {},
     "output_type": "display_data"
    }
   ],
   "source": [
    "# Create heatmap\n",
    "\n",
    "pdf(\"Namani_heatmap.pdf\", width = 6, height = 6)\n",
    "\n",
    "# Heatmap for control\n",
    "Namani_heatmap_object <- Heatmap(\n",
    "  # Data\n",
    "  Namani_matrix_reordered, \n",
    "  \n",
    "  # Column customizations\n",
    "  cluster_columns = FALSE,\n",
    "  show_column_names = FALSE,\n",
    "  column_title = NULL,\n",
    "  top_annotation = col_ha,\n",
    "  column_split = block_split_factor,\n",
    "  column_gap = unit(1, \"mm\"),\n",
    "    \n",
    "  # Row customizations\n",
    "  cluster_rows = FALSE,\n",
    "  show_row_names = FALSE,\n",
    "  row_title = NULL,\n",
    "  left_annotation = row_ha,\n",
    "  row_split = row_split_factor,\n",
    "  row_gap = unit(1, \"mm\"),\n",
    "\n",
    "  # Legend customizations\n",
    "  heatmap_legend_param = list(\n",
    "    title = \"log10(Peak Count)\",\n",
    "    col = colorRampPalette(c(\"#B2182B\", \"#EEEEEE\", \"#2166AC\"))(100)\n",
    "  ),\n",
    "\n",
    "  # Other customizations\n",
    "  border = FALSE, \n",
    "  width = ncol(Namani_matrix) * unit(5, \"mm\"), \n",
    "  height = nrow(Namani_matrix) * unit(2.2, \"mm\")\n",
    ")\n",
    "\n",
    "ht = draw(Namani_heatmap_object)\n",
    "\n",
    "# Print width and height to determine appropriate export size\n",
    "w = ComplexHeatmap:::width(ht)\n",
    "w = convertX(w, \"inch\", valueOnly = TRUE)\n",
    "h = ComplexHeatmap:::height(ht)\n",
    "h = convertY(h, \"inch\", valueOnly = TRUE)\n",
    "c(w, h)\n",
    "\n",
    "dev.off()"
   ]
  },
  {
   "cell_type": "markdown",
   "id": "405fcb59",
   "metadata": {},
   "source": [
    "## Rube"
   ]
  },
  {
   "cell_type": "markdown",
   "id": "561a561f",
   "metadata": {},
   "source": [
    "### Create matrix"
   ]
  },
  {
   "cell_type": "code",
   "execution_count": 65,
   "id": "38ee890e",
   "metadata": {},
   "outputs": [
    {
     "data": {
      "text/html": [
       "<table class=\"dataframe\">\n",
       "<caption>A matrix: 6 × 12 of type dbl</caption>\n",
       "<thead>\n",
       "\t<tr><th></th><th scope=col>no_control_broad_bowtie2</th><th scope=col>no_control_broad_bwa_mem</th><th scope=col>no_control_broad_STAR</th><th scope=col>no_control_narrow_bowtie2</th><th scope=col>no_control_narrow_bwa_mem</th><th scope=col>no_control_narrow_STAR</th><th scope=col>with_control_broad_bowtie2</th><th scope=col>with_control_broad_bwa_mem</th><th scope=col>with_control_broad_STAR</th><th scope=col>with_control_narrow_bowtie2</th><th scope=col>with_control_narrow_bwa_mem</th><th scope=col>with_control_narrow_STAR</th></tr>\n",
       "</thead>\n",
       "<tbody>\n",
       "\t<tr><th scope=row>cisgenome_no_deduplication_test1</th><td>NA</td><td>NA</td><td>NA</td><td>NA</td><td>NA</td><td>NA</td><td>3.347915</td><td>3.319314</td><td>3.492760</td><td>3.347915</td><td>3.319314</td><td>3.492760</td></tr>\n",
       "\t<tr><th scope=row>cisgenome_no_deduplication_test2</th><td>NA</td><td>NA</td><td>NA</td><td>NA</td><td>NA</td><td>NA</td><td>3.347915</td><td>3.319314</td><td>3.492760</td><td>3.347915</td><td>3.319314</td><td>3.492760</td></tr>\n",
       "\t<tr><th scope=row>cisgenome_no_deduplication_test3</th><td>NA</td><td>NA</td><td>NA</td><td>NA</td><td>NA</td><td>NA</td><td>3.347915</td><td>3.319314</td><td>3.492760</td><td>3.347915</td><td>3.319314</td><td>3.492760</td></tr>\n",
       "\t<tr><th scope=row>cisgenome_picard_test1</th><td>NA</td><td>NA</td><td>NA</td><td>NA</td><td>NA</td><td>NA</td><td>4.217879</td><td>4.191814</td><td>3.772175</td><td>4.217879</td><td>5.243279</td><td>3.772175</td></tr>\n",
       "\t<tr><th scope=row>cisgenome_picard_test2</th><td>NA</td><td>NA</td><td>NA</td><td>NA</td><td>NA</td><td>NA</td><td>4.217879</td><td>4.191814</td><td>3.772175</td><td>4.217879</td><td>4.191814</td><td>3.772175</td></tr>\n",
       "\t<tr><th scope=row>cisgenome_picard_test3</th><td>NA</td><td>NA</td><td>NA</td><td>NA</td><td>NA</td><td>NA</td><td>4.217879</td><td>4.191814</td><td>3.772175</td><td>4.217879</td><td>4.191814</td><td>3.772175</td></tr>\n",
       "</tbody>\n",
       "</table>\n"
      ],
      "text/latex": [
       "A matrix: 6 × 12 of type dbl\n",
       "\\begin{tabular}{r|llllllllllll}\n",
       "  & no\\_control\\_broad\\_bowtie2 & no\\_control\\_broad\\_bwa\\_mem & no\\_control\\_broad\\_STAR & no\\_control\\_narrow\\_bowtie2 & no\\_control\\_narrow\\_bwa\\_mem & no\\_control\\_narrow\\_STAR & with\\_control\\_broad\\_bowtie2 & with\\_control\\_broad\\_bwa\\_mem & with\\_control\\_broad\\_STAR & with\\_control\\_narrow\\_bowtie2 & with\\_control\\_narrow\\_bwa\\_mem & with\\_control\\_narrow\\_STAR\\\\\n",
       "\\hline\n",
       "\tcisgenome\\_no\\_deduplication\\_test1 & NA & NA & NA & NA & NA & NA & 3.347915 & 3.319314 & 3.492760 & 3.347915 & 3.319314 & 3.492760\\\\\n",
       "\tcisgenome\\_no\\_deduplication\\_test2 & NA & NA & NA & NA & NA & NA & 3.347915 & 3.319314 & 3.492760 & 3.347915 & 3.319314 & 3.492760\\\\\n",
       "\tcisgenome\\_no\\_deduplication\\_test3 & NA & NA & NA & NA & NA & NA & 3.347915 & 3.319314 & 3.492760 & 3.347915 & 3.319314 & 3.492760\\\\\n",
       "\tcisgenome\\_picard\\_test1 & NA & NA & NA & NA & NA & NA & 4.217879 & 4.191814 & 3.772175 & 4.217879 & 5.243279 & 3.772175\\\\\n",
       "\tcisgenome\\_picard\\_test2 & NA & NA & NA & NA & NA & NA & 4.217879 & 4.191814 & 3.772175 & 4.217879 & 4.191814 & 3.772175\\\\\n",
       "\tcisgenome\\_picard\\_test3 & NA & NA & NA & NA & NA & NA & 4.217879 & 4.191814 & 3.772175 & 4.217879 & 4.191814 & 3.772175\\\\\n",
       "\\end{tabular}\n"
      ],
      "text/markdown": [
       "\n",
       "A matrix: 6 × 12 of type dbl\n",
       "\n",
       "| <!--/--> | no_control_broad_bowtie2 | no_control_broad_bwa_mem | no_control_broad_STAR | no_control_narrow_bowtie2 | no_control_narrow_bwa_mem | no_control_narrow_STAR | with_control_broad_bowtie2 | with_control_broad_bwa_mem | with_control_broad_STAR | with_control_narrow_bowtie2 | with_control_narrow_bwa_mem | with_control_narrow_STAR |\n",
       "|---|---|---|---|---|---|---|---|---|---|---|---|---|\n",
       "| cisgenome_no_deduplication_test1 | NA | NA | NA | NA | NA | NA | 3.347915 | 3.319314 | 3.492760 | 3.347915 | 3.319314 | 3.492760 |\n",
       "| cisgenome_no_deduplication_test2 | NA | NA | NA | NA | NA | NA | 3.347915 | 3.319314 | 3.492760 | 3.347915 | 3.319314 | 3.492760 |\n",
       "| cisgenome_no_deduplication_test3 | NA | NA | NA | NA | NA | NA | 3.347915 | 3.319314 | 3.492760 | 3.347915 | 3.319314 | 3.492760 |\n",
       "| cisgenome_picard_test1 | NA | NA | NA | NA | NA | NA | 4.217879 | 4.191814 | 3.772175 | 4.217879 | 5.243279 | 3.772175 |\n",
       "| cisgenome_picard_test2 | NA | NA | NA | NA | NA | NA | 4.217879 | 4.191814 | 3.772175 | 4.217879 | 4.191814 | 3.772175 |\n",
       "| cisgenome_picard_test3 | NA | NA | NA | NA | NA | NA | 4.217879 | 4.191814 | 3.772175 | 4.217879 | 4.191814 | 3.772175 |\n",
       "\n"
      ],
      "text/plain": [
       "                                 no_control_broad_bowtie2\n",
       "cisgenome_no_deduplication_test1 NA                      \n",
       "cisgenome_no_deduplication_test2 NA                      \n",
       "cisgenome_no_deduplication_test3 NA                      \n",
       "cisgenome_picard_test1           NA                      \n",
       "cisgenome_picard_test2           NA                      \n",
       "cisgenome_picard_test3           NA                      \n",
       "                                 no_control_broad_bwa_mem no_control_broad_STAR\n",
       "cisgenome_no_deduplication_test1 NA                       NA                   \n",
       "cisgenome_no_deduplication_test2 NA                       NA                   \n",
       "cisgenome_no_deduplication_test3 NA                       NA                   \n",
       "cisgenome_picard_test1           NA                       NA                   \n",
       "cisgenome_picard_test2           NA                       NA                   \n",
       "cisgenome_picard_test3           NA                       NA                   \n",
       "                                 no_control_narrow_bowtie2\n",
       "cisgenome_no_deduplication_test1 NA                       \n",
       "cisgenome_no_deduplication_test2 NA                       \n",
       "cisgenome_no_deduplication_test3 NA                       \n",
       "cisgenome_picard_test1           NA                       \n",
       "cisgenome_picard_test2           NA                       \n",
       "cisgenome_picard_test3           NA                       \n",
       "                                 no_control_narrow_bwa_mem\n",
       "cisgenome_no_deduplication_test1 NA                       \n",
       "cisgenome_no_deduplication_test2 NA                       \n",
       "cisgenome_no_deduplication_test3 NA                       \n",
       "cisgenome_picard_test1           NA                       \n",
       "cisgenome_picard_test2           NA                       \n",
       "cisgenome_picard_test3           NA                       \n",
       "                                 no_control_narrow_STAR\n",
       "cisgenome_no_deduplication_test1 NA                    \n",
       "cisgenome_no_deduplication_test2 NA                    \n",
       "cisgenome_no_deduplication_test3 NA                    \n",
       "cisgenome_picard_test1           NA                    \n",
       "cisgenome_picard_test2           NA                    \n",
       "cisgenome_picard_test3           NA                    \n",
       "                                 with_control_broad_bowtie2\n",
       "cisgenome_no_deduplication_test1 3.347915                  \n",
       "cisgenome_no_deduplication_test2 3.347915                  \n",
       "cisgenome_no_deduplication_test3 3.347915                  \n",
       "cisgenome_picard_test1           4.217879                  \n",
       "cisgenome_picard_test2           4.217879                  \n",
       "cisgenome_picard_test3           4.217879                  \n",
       "                                 with_control_broad_bwa_mem\n",
       "cisgenome_no_deduplication_test1 3.319314                  \n",
       "cisgenome_no_deduplication_test2 3.319314                  \n",
       "cisgenome_no_deduplication_test3 3.319314                  \n",
       "cisgenome_picard_test1           4.191814                  \n",
       "cisgenome_picard_test2           4.191814                  \n",
       "cisgenome_picard_test3           4.191814                  \n",
       "                                 with_control_broad_STAR\n",
       "cisgenome_no_deduplication_test1 3.492760               \n",
       "cisgenome_no_deduplication_test2 3.492760               \n",
       "cisgenome_no_deduplication_test3 3.492760               \n",
       "cisgenome_picard_test1           3.772175               \n",
       "cisgenome_picard_test2           3.772175               \n",
       "cisgenome_picard_test3           3.772175               \n",
       "                                 with_control_narrow_bowtie2\n",
       "cisgenome_no_deduplication_test1 3.347915                   \n",
       "cisgenome_no_deduplication_test2 3.347915                   \n",
       "cisgenome_no_deduplication_test3 3.347915                   \n",
       "cisgenome_picard_test1           4.217879                   \n",
       "cisgenome_picard_test2           4.217879                   \n",
       "cisgenome_picard_test3           4.217879                   \n",
       "                                 with_control_narrow_bwa_mem\n",
       "cisgenome_no_deduplication_test1 3.319314                   \n",
       "cisgenome_no_deduplication_test2 3.319314                   \n",
       "cisgenome_no_deduplication_test3 3.319314                   \n",
       "cisgenome_picard_test1           5.243279                   \n",
       "cisgenome_picard_test2           4.191814                   \n",
       "cisgenome_picard_test3           4.191814                   \n",
       "                                 with_control_narrow_STAR\n",
       "cisgenome_no_deduplication_test1 3.492760                \n",
       "cisgenome_no_deduplication_test2 3.492760                \n",
       "cisgenome_no_deduplication_test3 3.492760                \n",
       "cisgenome_picard_test1           3.772175                \n",
       "cisgenome_picard_test2           3.772175                \n",
       "cisgenome_picard_test3           3.772175                "
      ]
     },
     "metadata": {},
     "output_type": "display_data"
    }
   ],
   "source": [
    "# Subset for Rube data\n",
    "Rube <- heatmap_data[heatmap_data$Project == \"Rube\", ]\n",
    "\n",
    "# Melt the data from the heatmap_data dataframe\n",
    "melted_Rube <- melt(Rube, id.vars = c(\"x_axis_labels\", \"y_axis_labels\"), measure.vars = \"Peak_Counts\")\n",
    "\n",
    "# Cast the data into the desired format\n",
    "casted_Rube <- dcast(melted_Rube, y_axis_labels ~ x_axis_labels, value.var = \"value\")\n",
    "\n",
    "# Generate matrices\n",
    "rownames(casted_Rube) <- casted_Rube$y_axis_labels\n",
    "casted_Rube$y_axis_labels <- NULL\n",
    "Rube_matrix <- as.matrix(casted_Rube)\n",
    "\n",
    "# Transpose matrix to switch rows and columns\n",
    "Rube_matrix <- t(Rube_matrix)\n",
    "\n",
    "head(Rube_matrix)"
   ]
  },
  {
   "cell_type": "markdown",
   "id": "62bbb7f0",
   "metadata": {},
   "source": [
    "#### Prepare metadata "
   ]
  },
  {
   "cell_type": "code",
   "execution_count": 66,
   "id": "56823bd1",
   "metadata": {},
   "outputs": [
    {
     "data": {
      "text/html": [
       "<table class=\"dataframe\">\n",
       "<caption>A data.frame: 6 × 15</caption>\n",
       "<thead>\n",
       "\t<tr><th></th><th scope=col>no_control_broad_bowtie2</th><th scope=col>no_control_broad_bwa_mem</th><th scope=col>no_control_broad_STAR</th><th scope=col>no_control_narrow_bowtie2</th><th scope=col>no_control_narrow_bwa_mem</th><th scope=col>no_control_narrow_STAR</th><th scope=col>with_control_broad_bowtie2</th><th scope=col>with_control_broad_bwa_mem</th><th scope=col>with_control_broad_STAR</th><th scope=col>with_control_narrow_bowtie2</th><th scope=col>with_control_narrow_bwa_mem</th><th scope=col>with_control_narrow_STAR</th><th scope=col>Peak_Caller</th><th scope=col>Deduplicator</th><th scope=col>Test</th></tr>\n",
       "\t<tr><th></th><th scope=col>&lt;dbl&gt;</th><th scope=col>&lt;dbl&gt;</th><th scope=col>&lt;dbl&gt;</th><th scope=col>&lt;dbl&gt;</th><th scope=col>&lt;dbl&gt;</th><th scope=col>&lt;dbl&gt;</th><th scope=col>&lt;dbl&gt;</th><th scope=col>&lt;dbl&gt;</th><th scope=col>&lt;dbl&gt;</th><th scope=col>&lt;dbl&gt;</th><th scope=col>&lt;dbl&gt;</th><th scope=col>&lt;dbl&gt;</th><th scope=col>&lt;chr&gt;</th><th scope=col>&lt;chr&gt;</th><th scope=col>&lt;int&gt;</th></tr>\n",
       "</thead>\n",
       "<tbody>\n",
       "\t<tr><th scope=row>cisgenome_no_deduplication_test1</th><td>NA</td><td>NA</td><td>NA</td><td>NA</td><td>NA</td><td>NA</td><td>3.347915</td><td>3.319314</td><td>3.492760</td><td>3.347915</td><td>3.319314</td><td>3.492760</td><td>Cisgenome</td><td>None  </td><td>1</td></tr>\n",
       "\t<tr><th scope=row>cisgenome_no_deduplication_test2</th><td>NA</td><td>NA</td><td>NA</td><td>NA</td><td>NA</td><td>NA</td><td>3.347915</td><td>3.319314</td><td>3.492760</td><td>3.347915</td><td>3.319314</td><td>3.492760</td><td>Cisgenome</td><td>None  </td><td>2</td></tr>\n",
       "\t<tr><th scope=row>cisgenome_no_deduplication_test3</th><td>NA</td><td>NA</td><td>NA</td><td>NA</td><td>NA</td><td>NA</td><td>3.347915</td><td>3.319314</td><td>3.492760</td><td>3.347915</td><td>3.319314</td><td>3.492760</td><td>Cisgenome</td><td>None  </td><td>3</td></tr>\n",
       "\t<tr><th scope=row>cisgenome_picard_test1</th><td>NA</td><td>NA</td><td>NA</td><td>NA</td><td>NA</td><td>NA</td><td>4.217879</td><td>4.191814</td><td>3.772175</td><td>4.217879</td><td>5.243279</td><td>3.772175</td><td>Cisgenome</td><td>Picard</td><td>1</td></tr>\n",
       "\t<tr><th scope=row>cisgenome_picard_test2</th><td>NA</td><td>NA</td><td>NA</td><td>NA</td><td>NA</td><td>NA</td><td>4.217879</td><td>4.191814</td><td>3.772175</td><td>4.217879</td><td>4.191814</td><td>3.772175</td><td>Cisgenome</td><td>Picard</td><td>2</td></tr>\n",
       "\t<tr><th scope=row>cisgenome_picard_test3</th><td>NA</td><td>NA</td><td>NA</td><td>NA</td><td>NA</td><td>NA</td><td>4.217879</td><td>4.191814</td><td>3.772175</td><td>4.217879</td><td>4.191814</td><td>3.772175</td><td>Cisgenome</td><td>Picard</td><td>3</td></tr>\n",
       "</tbody>\n",
       "</table>\n"
      ],
      "text/latex": [
       "A data.frame: 6 × 15\n",
       "\\begin{tabular}{r|lllllllllllllll}\n",
       "  & no\\_control\\_broad\\_bowtie2 & no\\_control\\_broad\\_bwa\\_mem & no\\_control\\_broad\\_STAR & no\\_control\\_narrow\\_bowtie2 & no\\_control\\_narrow\\_bwa\\_mem & no\\_control\\_narrow\\_STAR & with\\_control\\_broad\\_bowtie2 & with\\_control\\_broad\\_bwa\\_mem & with\\_control\\_broad\\_STAR & with\\_control\\_narrow\\_bowtie2 & with\\_control\\_narrow\\_bwa\\_mem & with\\_control\\_narrow\\_STAR & Peak\\_Caller & Deduplicator & Test\\\\\n",
       "  & <dbl> & <dbl> & <dbl> & <dbl> & <dbl> & <dbl> & <dbl> & <dbl> & <dbl> & <dbl> & <dbl> & <dbl> & <chr> & <chr> & <int>\\\\\n",
       "\\hline\n",
       "\tcisgenome\\_no\\_deduplication\\_test1 & NA & NA & NA & NA & NA & NA & 3.347915 & 3.319314 & 3.492760 & 3.347915 & 3.319314 & 3.492760 & Cisgenome & None   & 1\\\\\n",
       "\tcisgenome\\_no\\_deduplication\\_test2 & NA & NA & NA & NA & NA & NA & 3.347915 & 3.319314 & 3.492760 & 3.347915 & 3.319314 & 3.492760 & Cisgenome & None   & 2\\\\\n",
       "\tcisgenome\\_no\\_deduplication\\_test3 & NA & NA & NA & NA & NA & NA & 3.347915 & 3.319314 & 3.492760 & 3.347915 & 3.319314 & 3.492760 & Cisgenome & None   & 3\\\\\n",
       "\tcisgenome\\_picard\\_test1 & NA & NA & NA & NA & NA & NA & 4.217879 & 4.191814 & 3.772175 & 4.217879 & 5.243279 & 3.772175 & Cisgenome & Picard & 1\\\\\n",
       "\tcisgenome\\_picard\\_test2 & NA & NA & NA & NA & NA & NA & 4.217879 & 4.191814 & 3.772175 & 4.217879 & 4.191814 & 3.772175 & Cisgenome & Picard & 2\\\\\n",
       "\tcisgenome\\_picard\\_test3 & NA & NA & NA & NA & NA & NA & 4.217879 & 4.191814 & 3.772175 & 4.217879 & 4.191814 & 3.772175 & Cisgenome & Picard & 3\\\\\n",
       "\\end{tabular}\n"
      ],
      "text/markdown": [
       "\n",
       "A data.frame: 6 × 15\n",
       "\n",
       "| <!--/--> | no_control_broad_bowtie2 &lt;dbl&gt; | no_control_broad_bwa_mem &lt;dbl&gt; | no_control_broad_STAR &lt;dbl&gt; | no_control_narrow_bowtie2 &lt;dbl&gt; | no_control_narrow_bwa_mem &lt;dbl&gt; | no_control_narrow_STAR &lt;dbl&gt; | with_control_broad_bowtie2 &lt;dbl&gt; | with_control_broad_bwa_mem &lt;dbl&gt; | with_control_broad_STAR &lt;dbl&gt; | with_control_narrow_bowtie2 &lt;dbl&gt; | with_control_narrow_bwa_mem &lt;dbl&gt; | with_control_narrow_STAR &lt;dbl&gt; | Peak_Caller &lt;chr&gt; | Deduplicator &lt;chr&gt; | Test &lt;int&gt; |\n",
       "|---|---|---|---|---|---|---|---|---|---|---|---|---|---|---|---|\n",
       "| cisgenome_no_deduplication_test1 | NA | NA | NA | NA | NA | NA | 3.347915 | 3.319314 | 3.492760 | 3.347915 | 3.319314 | 3.492760 | Cisgenome | None   | 1 |\n",
       "| cisgenome_no_deduplication_test2 | NA | NA | NA | NA | NA | NA | 3.347915 | 3.319314 | 3.492760 | 3.347915 | 3.319314 | 3.492760 | Cisgenome | None   | 2 |\n",
       "| cisgenome_no_deduplication_test3 | NA | NA | NA | NA | NA | NA | 3.347915 | 3.319314 | 3.492760 | 3.347915 | 3.319314 | 3.492760 | Cisgenome | None   | 3 |\n",
       "| cisgenome_picard_test1 | NA | NA | NA | NA | NA | NA | 4.217879 | 4.191814 | 3.772175 | 4.217879 | 5.243279 | 3.772175 | Cisgenome | Picard | 1 |\n",
       "| cisgenome_picard_test2 | NA | NA | NA | NA | NA | NA | 4.217879 | 4.191814 | 3.772175 | 4.217879 | 4.191814 | 3.772175 | Cisgenome | Picard | 2 |\n",
       "| cisgenome_picard_test3 | NA | NA | NA | NA | NA | NA | 4.217879 | 4.191814 | 3.772175 | 4.217879 | 4.191814 | 3.772175 | Cisgenome | Picard | 3 |\n",
       "\n"
      ],
      "text/plain": [
       "                                 no_control_broad_bowtie2\n",
       "cisgenome_no_deduplication_test1 NA                      \n",
       "cisgenome_no_deduplication_test2 NA                      \n",
       "cisgenome_no_deduplication_test3 NA                      \n",
       "cisgenome_picard_test1           NA                      \n",
       "cisgenome_picard_test2           NA                      \n",
       "cisgenome_picard_test3           NA                      \n",
       "                                 no_control_broad_bwa_mem no_control_broad_STAR\n",
       "cisgenome_no_deduplication_test1 NA                       NA                   \n",
       "cisgenome_no_deduplication_test2 NA                       NA                   \n",
       "cisgenome_no_deduplication_test3 NA                       NA                   \n",
       "cisgenome_picard_test1           NA                       NA                   \n",
       "cisgenome_picard_test2           NA                       NA                   \n",
       "cisgenome_picard_test3           NA                       NA                   \n",
       "                                 no_control_narrow_bowtie2\n",
       "cisgenome_no_deduplication_test1 NA                       \n",
       "cisgenome_no_deduplication_test2 NA                       \n",
       "cisgenome_no_deduplication_test3 NA                       \n",
       "cisgenome_picard_test1           NA                       \n",
       "cisgenome_picard_test2           NA                       \n",
       "cisgenome_picard_test3           NA                       \n",
       "                                 no_control_narrow_bwa_mem\n",
       "cisgenome_no_deduplication_test1 NA                       \n",
       "cisgenome_no_deduplication_test2 NA                       \n",
       "cisgenome_no_deduplication_test3 NA                       \n",
       "cisgenome_picard_test1           NA                       \n",
       "cisgenome_picard_test2           NA                       \n",
       "cisgenome_picard_test3           NA                       \n",
       "                                 no_control_narrow_STAR\n",
       "cisgenome_no_deduplication_test1 NA                    \n",
       "cisgenome_no_deduplication_test2 NA                    \n",
       "cisgenome_no_deduplication_test3 NA                    \n",
       "cisgenome_picard_test1           NA                    \n",
       "cisgenome_picard_test2           NA                    \n",
       "cisgenome_picard_test3           NA                    \n",
       "                                 with_control_broad_bowtie2\n",
       "cisgenome_no_deduplication_test1 3.347915                  \n",
       "cisgenome_no_deduplication_test2 3.347915                  \n",
       "cisgenome_no_deduplication_test3 3.347915                  \n",
       "cisgenome_picard_test1           4.217879                  \n",
       "cisgenome_picard_test2           4.217879                  \n",
       "cisgenome_picard_test3           4.217879                  \n",
       "                                 with_control_broad_bwa_mem\n",
       "cisgenome_no_deduplication_test1 3.319314                  \n",
       "cisgenome_no_deduplication_test2 3.319314                  \n",
       "cisgenome_no_deduplication_test3 3.319314                  \n",
       "cisgenome_picard_test1           4.191814                  \n",
       "cisgenome_picard_test2           4.191814                  \n",
       "cisgenome_picard_test3           4.191814                  \n",
       "                                 with_control_broad_STAR\n",
       "cisgenome_no_deduplication_test1 3.492760               \n",
       "cisgenome_no_deduplication_test2 3.492760               \n",
       "cisgenome_no_deduplication_test3 3.492760               \n",
       "cisgenome_picard_test1           3.772175               \n",
       "cisgenome_picard_test2           3.772175               \n",
       "cisgenome_picard_test3           3.772175               \n",
       "                                 with_control_narrow_bowtie2\n",
       "cisgenome_no_deduplication_test1 3.347915                   \n",
       "cisgenome_no_deduplication_test2 3.347915                   \n",
       "cisgenome_no_deduplication_test3 3.347915                   \n",
       "cisgenome_picard_test1           4.217879                   \n",
       "cisgenome_picard_test2           4.217879                   \n",
       "cisgenome_picard_test3           4.217879                   \n",
       "                                 with_control_narrow_bwa_mem\n",
       "cisgenome_no_deduplication_test1 3.319314                   \n",
       "cisgenome_no_deduplication_test2 3.319314                   \n",
       "cisgenome_no_deduplication_test3 3.319314                   \n",
       "cisgenome_picard_test1           5.243279                   \n",
       "cisgenome_picard_test2           4.191814                   \n",
       "cisgenome_picard_test3           4.191814                   \n",
       "                                 with_control_narrow_STAR Peak_Caller\n",
       "cisgenome_no_deduplication_test1 3.492760                 Cisgenome  \n",
       "cisgenome_no_deduplication_test2 3.492760                 Cisgenome  \n",
       "cisgenome_no_deduplication_test3 3.492760                 Cisgenome  \n",
       "cisgenome_picard_test1           3.772175                 Cisgenome  \n",
       "cisgenome_picard_test2           3.772175                 Cisgenome  \n",
       "cisgenome_picard_test3           3.772175                 Cisgenome  \n",
       "                                 Deduplicator Test\n",
       "cisgenome_no_deduplication_test1 None         1   \n",
       "cisgenome_no_deduplication_test2 None         2   \n",
       "cisgenome_no_deduplication_test3 None         3   \n",
       "cisgenome_picard_test1           Picard       1   \n",
       "cisgenome_picard_test2           Picard       2   \n",
       "cisgenome_picard_test3           Picard       3   "
      ]
     },
     "metadata": {},
     "output_type": "display_data"
    }
   ],
   "source": [
    "# Save matrix as data frame for manipulation\n",
    "Rube_metadata <- as.data.frame(Rube_matrix)\n",
    "\n",
    "# Peak Caller\n",
    "new_row_names <- sub(\"^(.*?)_.*$\", \"\\\\1\", rownames(Rube_matrix))\n",
    "replacement_rules <- c(\"cisgenome\" = \"Cisgenome\", \"macs3\" = \"MACS3\", \"pepr\" = \"PePr\", \"genrich\" = \"Genrich\")\n",
    "new_row_names <- sapply(new_row_names, function(name) {\n",
    "  if (name %in% names(replacement_rules)) {\n",
    "    return(replacement_rules[name])\n",
    "  } else {\n",
    "    return(name)\n",
    "  }\n",
    "})\n",
    "Rube_metadata$Peak_Caller <- new_row_names\n",
    "\n",
    "# Deduplicator\n",
    "new_row_names <- str_extract(rownames(Rube_matrix), \"(?<=_)[^_]+\")\n",
    "replacement_rules <- c(\"no\" = \"None\", \"sambamba\" = \"Sambamba\", \"picard\" = \"Picard\", \"samtools\" = \"Samtools\")\n",
    "new_row_names <- sapply(new_row_names, function(name) {\n",
    "  if (name %in% names(replacement_rules)) {\n",
    "    return(replacement_rules[name])\n",
    "  } else {\n",
    "    return(name)\n",
    "  }\n",
    "})\n",
    "Rube_metadata$Deduplicator <- new_row_names\n",
    "\n",
    "# Test_Dataset\n",
    "Rube_metadata$Test <- as.integer(gsub(\".*_test(\\\\d+)$\", \"\\\\1\", rownames(Rube_matrix)))\n",
    "\n",
    "# View\n",
    "head(Rube_metadata)"
   ]
  },
  {
   "cell_type": "markdown",
   "id": "5c2cd541",
   "metadata": {},
   "source": [
    "### Create heatmap"
   ]
  },
  {
   "cell_type": "code",
   "execution_count": 67,
   "id": "bdc2dc3d",
   "metadata": {},
   "outputs": [],
   "source": [
    "# Annotation objects\n",
    "\n",
    "# Define the desired order for test number\n",
    "test_number <- c(\"1\", \"2\", \"3\")\n",
    "\n",
    "# Define the desired order for peak type\n",
    "desired_column_order <- c(\n",
    "    \"with_control_broad_bowtie2\", \"with_control_broad_bwa_mem\", \"with_control_broad_STAR\", \n",
    "    \"with_control_narrow_bowtie2\", \"with_control_narrow_bwa_mem\", \"with_control_narrow_STAR\",\n",
    "    \"no_control_broad_bowtie2\", \"no_control_broad_bwa_mem\", \"no_control_broad_STAR\", \n",
    "    \"no_control_narrow_bowtie2\", \"no_control_narrow_bwa_mem\", \"no_control_narrow_STAR\"\n",
    ")\n",
    "\n",
    "# Rearrange the columns in matrix\n",
    "Rube_matrix_reordered <- Rube_matrix[, desired_column_order]\n",
    "\n",
    "# Define custom grouping factor for column_split\n",
    "n_blocks <- 4\n",
    "n_columns_per_block <- 3\n",
    "block_labels <- rep(1:n_blocks, each = n_columns_per_block)\n",
    "block_split_factor <- factor(block_labels)\n",
    "\n",
    "# Split rows by peak caller\n",
    "row_split_factor <- factor(Rube_metadata$Peak_Caller)\n",
    "\n",
    "# Row annotations\n",
    "row_ha <- rowAnnotation(\n",
    "  `Peak Caller` = factor(Rube_metadata$Peak_Caller, levels = c(\"Cisgenome\", \"Genrich\", \"MACS3\", \"PePr\")),\n",
    "  `Deduplicator` = factor(Rube_metadata$Deduplicator, levels = c(\"None\", \"Picard\", \"Sambamba\", \"Samtools\")),\n",
    "  `Test Number` = factor(Rube_metadata$Test, levels = test_number),\n",
    "  col = list(\n",
    "    `Peak Caller` = c(\"Cisgenome\" = \"#c2ffc3\", \"Genrich\" = \"#90ec7c\", \"MACS3\" = \"#00b22a\", \"PePr\" = \"#006b05\"),\n",
    "    `Deduplicator` = c(\"None\" = \"#e6e6fa\", \"Picard\" = \"#aea3e0\", \"Sambamba\" = \"#835fbd\", \"Samtools\" = \"#620093\"),\n",
    "    `Test Number` = c(\"1\" = \"#00CCFF\", \"2\" = \"#007AFF\", \"3\" = \"#0000FF\")\n",
    "  )\n",
    ")\n",
    "\n",
    "# Column annotations\n",
    "col_ha <- HeatmapAnnotation(\n",
    "  `Endedness` = factor(c(rep(\"Control\", 6), rep(\"No Control\", 6)), levels = c(\"Control\", \"No Control\")),\n",
    "  `Peak Type` = factor(c(rep(\"Broad\", 3), rep(\"Narrow\", 3), rep(\"Broad\", 3), rep(\"Narrow\", 3)), levels = c(\"Broad\", \"Narrow\")),\n",
    "  `Aligner` = factor(c(\"Bowtie2\", \"BWA-MEM\", \"STAR\", \"Bowtie2\", \"BWA-MEM\", \"STAR\", \"Bowtie2\", \"BWA-MEM\", \"STAR\", \"Bowtie2\", \"BWA-MEM\", \"STAR\"), levels = c(\"Bowtie2\", \"BWA-MEM\", \"STAR\")),\n",
    "  col = list(\n",
    "    `Endedness` = c(\"Control\" = \"#f7d3db\", \"No Control\" = \"#eb647e\"),\n",
    "    `Peak Type` = c(\"Broad\" = \"#ff9a00\", \"Narrow\" = \"#ff4d00\"),\n",
    "    `Aligner` = c(\"Bowtie2\" = \"#ff0000\", \"BWA-MEM\" = \"#8c0000\", \"STAR\" = \"#400000\")\n",
    "  )\n",
    ")"
   ]
  },
  {
   "cell_type": "code",
   "execution_count": 68,
   "id": "3c197fb8",
   "metadata": {},
   "outputs": [
    {
     "data": {
      "text/html": [
       "<style>\n",
       ".list-inline {list-style: none; margin:0; padding: 0}\n",
       ".list-inline>li {display: inline-block}\n",
       ".list-inline>li:not(:last-child)::after {content: \"\\00b7\"; padding: 0 .5ex}\n",
       "</style>\n",
       "<ol class=list-inline><li>5.57417015315489</li><li>5.94981932200878</li></ol>\n"
      ],
      "text/latex": [
       "\\begin{enumerate*}\n",
       "\\item 5.57417015315489\n",
       "\\item 5.94981932200878\n",
       "\\end{enumerate*}\n"
      ],
      "text/markdown": [
       "1. 5.57417015315489\n",
       "2. 5.94981932200878\n",
       "\n",
       "\n"
      ],
      "text/plain": [
       "[1] 5.574170 5.949819"
      ]
     },
     "metadata": {},
     "output_type": "display_data"
    },
    {
     "data": {
      "text/html": [
       "<strong>png:</strong> 2"
      ],
      "text/latex": [
       "\\textbf{png:} 2"
      ],
      "text/markdown": [
       "**png:** 2"
      ],
      "text/plain": [
       "png \n",
       "  2 "
      ]
     },
     "metadata": {},
     "output_type": "display_data"
    }
   ],
   "source": [
    "# Create heatmap\n",
    "\n",
    "pdf(\"Rube_heatmap.pdf\", width = 6, height = 6)\n",
    "\n",
    "# Heatmap for control\n",
    "Rube_heatmap_object <- Heatmap(\n",
    "  # Data\n",
    "  Rube_matrix_reordered, \n",
    "  \n",
    "  # Column customizations\n",
    "  cluster_columns = FALSE,\n",
    "  show_column_names = FALSE,\n",
    "  column_title = NULL,\n",
    "  top_annotation = col_ha,\n",
    "  column_split = block_split_factor,\n",
    "  column_gap = unit(1, \"mm\"),\n",
    "    \n",
    "  # Row customizations\n",
    "  cluster_rows = FALSE,\n",
    "  show_row_names = FALSE,\n",
    "  row_title = NULL,\n",
    "  left_annotation = row_ha,\n",
    "  row_split = row_split_factor,\n",
    "  row_gap = unit(1, \"mm\"),\n",
    "\n",
    "  # Legend customizations\n",
    "  heatmap_legend_param = list(\n",
    "    title = \"log10(Peak Count)\",\n",
    "    col = colorRampPalette(c(\"#B2182B\", \"#EEEEEE\", \"#2166AC\"))(100)\n",
    "  ),\n",
    "\n",
    "  # Other customizations\n",
    "  border = FALSE, \n",
    "  width = ncol(Rube_matrix) * unit(5, \"mm\"), \n",
    "  height = nrow(Rube_matrix) * unit(2.2, \"mm\")\n",
    ")\n",
    "\n",
    "ht = draw(Rube_heatmap_object)\n",
    "\n",
    "# Print width and height to determine appropriate export size\n",
    "w = ComplexHeatmap:::width(ht)\n",
    "w = convertX(w, \"inch\", valueOnly = TRUE)\n",
    "h = ComplexHeatmap:::height(ht)\n",
    "h = convertY(h, \"inch\", valueOnly = TRUE)\n",
    "c(w, h)\n",
    "\n",
    "dev.off()"
   ]
  }
 ],
 "metadata": {
  "kernelspec": {
   "display_name": "R",
   "language": "R",
   "name": "ir"
  },
  "language_info": {
   "codemirror_mode": "r",
   "file_extension": ".r",
   "mimetype": "text/x-r-source",
   "name": "R",
   "pygments_lexer": "r",
   "version": "4.2.3"
  }
 },
 "nbformat": 4,
 "nbformat_minor": 5
}
