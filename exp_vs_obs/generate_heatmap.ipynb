{
 "cells": [
  {
   "cell_type": "code",
   "execution_count": null,
   "id": "6897b529",
   "metadata": {},
   "outputs": [],
   "source": [
    "# Update Bioconductor\n",
    "\n",
    "if (!require(\"BiocManager\", quietly = TRUE))\n",
    "    install.packages(\"BiocManager\")\n",
    "BiocManager::install(version = \"3.17\")"
   ]
  },
  {
   "cell_type": "code",
   "execution_count": null,
   "id": "f183b9a1",
   "metadata": {},
   "outputs": [],
   "source": [
    "# Install packages\n",
    "\n",
    "# ComplexHeatmap\n",
    "if (!require(\"BiocManager\", quietly = TRUE))\n",
    "    install.packages(\"BiocManager\")\n",
    "\n",
    "BiocManager::install(\"ComplexHeatmap\")"
   ]
  },
  {
   "cell_type": "code",
   "execution_count": 4,
   "id": "e2fb0f29",
   "metadata": {},
   "outputs": [],
   "source": [
    "# Load packages\n",
    "\n",
    "library(ComplexHeatmap)"
   ]
  },
  {
   "cell_type": "code",
   "execution_count": 5,
   "id": "1cf8c8ee",
   "metadata": {},
   "outputs": [
    {
     "data": {
      "text/html": [
       "<style>\n",
       ".list-inline {list-style: none; margin:0; padding: 0}\n",
       ".list-inline>li {display: inline-block}\n",
       ".list-inline>li:not(:last-child)::after {content: \"\\00b7\"; padding: 0 .5ex}\n",
       "</style>\n",
       "<ol class=list-inline><li>'exp_vs_obs.py'</li><li>'generate_heatmap.ipynb'</li><li>'project_files'</li><li>'seq_data'</li><li>'snakefiles'</li><li>'tables_and_figures'</li></ol>\n"
      ],
      "text/latex": [
       "\\begin{enumerate*}\n",
       "\\item 'exp\\_vs\\_obs.py'\n",
       "\\item 'generate\\_heatmap.ipynb'\n",
       "\\item 'project\\_files'\n",
       "\\item 'seq\\_data'\n",
       "\\item 'snakefiles'\n",
       "\\item 'tables\\_and\\_figures'\n",
       "\\end{enumerate*}\n"
      ],
      "text/markdown": [
       "1. 'exp_vs_obs.py'\n",
       "2. 'generate_heatmap.ipynb'\n",
       "3. 'project_files'\n",
       "4. 'seq_data'\n",
       "5. 'snakefiles'\n",
       "6. 'tables_and_figures'\n",
       "\n",
       "\n"
      ],
      "text/plain": [
       "[1] \"exp_vs_obs.py\"          \"generate_heatmap.ipynb\" \"project_files\"         \n",
       "[4] \"seq_data\"               \"snakefiles\"             \"tables_and_figures\"    "
      ]
     },
     "metadata": {},
     "output_type": "display_data"
    }
   ],
   "source": [
    "# Load in dataframe\n",
    "\n",
    "df <- read.csv(\"tables_and_figures/expected_vs_observed_peaks_master.csv\", header = TRUE)"
   ]
  },
  {
   "cell_type": "code",
   "execution_count": null,
   "id": "be66c96f",
   "metadata": {},
   "outputs": [],
   "source": []
  }
 ],
 "metadata": {
  "kernelspec": {
   "display_name": "R",
   "language": "R",
   "name": "ir"
  },
  "language_info": {
   "codemirror_mode": "r",
   "file_extension": ".r",
   "mimetype": "text/x-r-source",
   "name": "R",
   "pygments_lexer": "r",
   "version": "4.2.0"
  }
 },
 "nbformat": 4,
 "nbformat_minor": 5
}
