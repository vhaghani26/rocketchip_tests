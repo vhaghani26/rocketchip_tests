{
 "cells": [
  {
   "cell_type": "markdown",
   "id": "e0767cbb",
   "metadata": {},
   "source": [
    "## Update Bioconductor"
   ]
  },
  {
   "cell_type": "code",
   "execution_count": null,
   "id": "b01860bd",
   "metadata": {},
   "outputs": [],
   "source": [
    "if (!require(\"BiocManager\", quietly = TRUE))\n",
    "    install.packages(\"BiocManager\")\n",
    "BiocManager::install(version = \"3.17\")"
   ]
  },
  {
   "cell_type": "markdown",
   "id": "a31273ca",
   "metadata": {},
   "source": [
    "## Install Packages"
   ]
  },
  {
   "cell_type": "code",
   "execution_count": null,
   "id": "d711c8e9",
   "metadata": {},
   "outputs": [],
   "source": [
    "# ComplexHeatmap\n",
    "if (!require(\"BiocManager\", quietly = TRUE))\n",
    "    install.packages(\"BiocManager\")\n",
    "BiocManager::install(\"ComplexHeatmap\")\n",
    "\n",
    "# dplyr\n",
    "install.packages(\"dplyr\")\n",
    "\n",
    "# tidy4\n",
    "install.packages(\"tidyr\")\n",
    "\n",
    "# reshape2\n",
    "install.packages(\"reshape2\")"
   ]
  },
  {
   "cell_type": "markdown",
   "id": "5e7fb877",
   "metadata": {},
   "source": [
    "## Load Packages"
   ]
  },
  {
   "cell_type": "code",
   "execution_count": null,
   "id": "6d04d189",
   "metadata": {},
   "outputs": [],
   "source": [
    "library(ComplexHeatmap)\n",
    "library(dplyr)\n",
    "library(tidyr)\n",
    "library(reshape2)"
   ]
  },
  {
   "cell_type": "markdown",
   "id": "8e8b8b97",
   "metadata": {},
   "source": [
    "## Load Dataframe"
   ]
  },
  {
   "cell_type": "code",
   "execution_count": 84,
   "id": "39aa66a6",
   "metadata": {},
   "outputs": [],
   "source": [
    "df <- read.csv(\"tables_and_figures/expected_vs_observed_peaks_master.csv\", header = TRUE)"
   ]
  },
  {
   "cell_type": "markdown",
   "id": "8680894d",
   "metadata": {},
   "source": [
    "## Create Heatmap of F1 Scores"
   ]
  },
  {
   "cell_type": "code",
   "execution_count": 109,
   "id": "09f3d91b",
   "metadata": {},
   "outputs": [],
   "source": [
    "# Create matrices\n",
    "\n",
    "# Select data of interest\n",
    "heatmap_data <- df %>%\n",
    "  select(Endedness, Peak_Type, Aligner, Peak_Caller, Deduplicator, Test_Dataset, Control, Sensitivity, Precision, F1_Score)\n",
    "\n",
    "# Combine variables for plotting\n",
    "heatmap_data$x_axis_labels <- paste(heatmap_data$Peak_Caller, heatmap_data$Deduplicator, heatmap_data$Test_Dataset, sep = \"_\")\n",
    "heatmap_data$y_axis_labels <- paste(heatmap_data$Endedness, heatmap_data$Peak_Type, heatmap_data$Aligner, sep = \"_\")\n",
    "\n",
    "# Replace NA values with 0\n",
    "heatmap_data <- heatmap_data %>%\n",
    "  mutate(Sensitivity = replace_na(Sensitivity, 0),\n",
    "         Precision = replace_na(Precision, 0),\n",
    "         F1_Score = replace_na(F1_Score, 0))\n",
    "\n",
    "# Split into control vs. no_control\n",
    "control_df <- heatmap_data[heatmap_data$Control == \"with_control\", ]\n",
    "no_control_df <- heatmap_data[heatmap_data$Control == \"no_control\", ]\n",
    "\n",
    "# Melt the data from the heatmap_data dataframe\n",
    "melted_control_df <- melt(control_df, id.vars = c(\"x_axis_labels\", \"y_axis_labels\"), measure.vars = \"F1_Score\")\n",
    "melted_no_control_df <- melt(no_control_df, id.vars = c(\"x_axis_labels\", \"y_axis_labels\"), measure.vars = \"F1_Score\")\n",
    "\n",
    "# Cast the data into the desired format\n",
    "cast_control_df <- dcast(melted_control_df, y_axis_labels ~ x_axis_labels, value.var = \"value\")\n",
    "cast_no_control_df <- dcast(melted_no_control_df, y_axis_labels ~ x_axis_labels, value.var = \"value\")\n",
    "\n",
    "# Generate matrices\n",
    "rownames(cast_control_df) <- cast_control_df$y_axis_labels\n",
    "cast_control_df$y_axis_labels <- NULL\n",
    "control_matrix <- as.matrix(cast_control_df)\n",
    " \n",
    "rownames(cast_no_control_df) <- cast_no_control_df$y_axis_labels\n",
    "cast_no_control_df$y_axis_labels <- NULL\n",
    "no_control_matrix <- as.matrix(cast_no_control_df)"
   ]
  },
  {
   "cell_type": "code",
   "execution_count": null,
   "id": "e823702a",
   "metadata": {},
   "outputs": [],
   "source": [
    "# Create Heatmap\n",
    "\n",
    "#pdf(\"F1_score_heatmap.pdf\", height = 20, width = 10)\n",
    "\n",
    "row_ha = rowAnnotation(F1_Scores = rownames(male_matrix))\n",
    "column_ha = HeatmapAnnotation(`Peak Caller` = heatmap_matrix$Peak_Caller, \n",
    "                              `Deduplicator` = heatmap_matrix$Deduplicator,\n",
    "                              `Test Dataset` = heatmap_matrix$Test_Dataset,\n",
    "                              col = list(`Peak Caller` = c(\"cisgenome\" = \"#c2ffc3\",\"genrich\"= \"#90ec7c\",\"macs3\"= \"#00b22a\", \"pepr\" = \"#006b05\"), \n",
    "                                         `Deduplicator` = c(\"samtools\" = \"#e6e6fa\", \"no_deduplication\" = \"#aea3e0\", \"picard\" = \"#835fbd\", \"sambamba\" = \"#620093\"),\n",
    "                                         `Test Dataset` = c(\"1\" = \"#00CCFF\", \"2\" = \"#00A3FF\", \"3\" = \"#007AFF\", \"4\" = \"#0052FF\", \"5\" = \"#0000FF\", \"6\" = \"#0700C4\", ), \n",
    "                                         annotation_name_gp = gpar(fontsize = 16 )),\n",
    "                              annotation_name_gp = gpar(fontsize = 16 ))\n",
    "\n",
    "map = grid.grabExpr(\n",
    "  draw(\n",
    "    Heatmap(heatmap_matrix, \n",
    "            name = \"F1 Scores\", \n",
    "            top_annotation = column_ha, \n",
    "            col = col_fun, \n",
    "            row_names_gp=gpar(fontsize=16,  ),\n",
    "            column_names_gp=gpar(fontsize=0),\n",
    "            cluster_columns = FALSE, \n",
    "            heatmap_legend_param = list(title=\"F1 Scores\", \n",
    "                                        title_gp = gpar(fontsize = 16,  ), \n",
    "                                        labels_gp = gpar(fontsize = 12,  )), \n",
    ")))\n",
    "\n",
    "#grid.newpage()\n",
    "grid.draw(map)\n",
    "\n",
    "#dev.off()"
   ]
  },
  {
   "cell_type": "markdown",
   "id": "e3c9b8eb",
   "metadata": {},
   "source": [
    "## Create Heatmap of Precision"
   ]
  },
  {
   "cell_type": "markdown",
   "id": "ce98b9e3",
   "metadata": {},
   "source": [
    "## Create Heatmap of Sensitivity"
   ]
  }
 ],
 "metadata": {
  "kernelspec": {
   "display_name": "R",
   "language": "R",
   "name": "ir"
  },
  "language_info": {
   "codemirror_mode": "r",
   "file_extension": ".r",
   "mimetype": "text/x-r-source",
   "name": "R",
   "pygments_lexer": "r",
   "version": "4.2.0"
  }
 },
 "nbformat": 4,
 "nbformat_minor": 5
}
