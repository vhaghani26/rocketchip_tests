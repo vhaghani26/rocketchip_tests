{
 "cells": [
  {
   "cell_type": "code",
   "execution_count": null,
   "id": "1f59dd4a",
   "metadata": {},
   "outputs": [],
   "source": [
    "# Update Bioconductor\n",
    "if (!require(\"BiocManager\", quietly = TRUE))\n",
    "    install.packages(\"BiocManager\")\n",
    "BiocManager::install(version = \"3.17\")"
   ]
  },
  {
   "cell_type": "code",
   "execution_count": null,
   "id": "2b47c259",
   "metadata": {},
   "outputs": [],
   "source": [
    "# Install packages\n",
    "\n",
    "# ComplexHeatmap\n",
    "if (!require(\"BiocManager\", quietly = TRUE))\n",
    "    install.packages(\"BiocManager\")\n",
    "\n",
    "BiocManager::install(\"ComplexHeatmap\")"
   ]
  },
  {
   "cell_type": "code",
   "execution_count": 4,
   "id": "7cbce136",
   "metadata": {},
   "outputs": [],
   "source": [
    "# Load packages\n",
    "\n",
    "library(ComplexHeatmap)"
   ]
  },
  {
   "cell_type": "code",
   "execution_count": null,
   "id": "51fb58a1",
   "metadata": {},
   "outputs": [],
   "source": []
  }
 ],
 "metadata": {
  "kernelspec": {
   "display_name": "R",
   "language": "R",
   "name": "ir"
  },
  "language_info": {
   "codemirror_mode": "r",
   "file_extension": ".r",
   "mimetype": "text/x-r-source",
   "name": "R",
   "pygments_lexer": "r",
   "version": "4.2.0"
  }
 },
 "nbformat": 4,
 "nbformat_minor": 5
}
