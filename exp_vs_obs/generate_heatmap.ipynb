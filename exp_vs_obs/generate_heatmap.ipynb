{
 "cells": [
  {
   "cell_type": "markdown",
   "id": "e0767cbb",
   "metadata": {},
   "source": [
    "## Update Bioconductor"
   ]
  },
  {
   "cell_type": "code",
   "execution_count": null,
   "id": "b01860bd",
   "metadata": {},
   "outputs": [],
   "source": [
    "if (!require(\"BiocManager\", quietly = TRUE))\n",
    "    install.packages(\"BiocManager\")\n",
    "BiocManager::install(version = \"3.17\")"
   ]
  },
  {
   "cell_type": "markdown",
   "id": "a31273ca",
   "metadata": {},
   "source": [
    "## Install Packages"
   ]
  },
  {
   "cell_type": "code",
   "execution_count": 65,
   "id": "1ab7143d",
   "metadata": {
    "collapsed": true
   },
   "outputs": [
    {
     "name": "stderr",
     "output_type": "stream",
     "text": [
      "'getOption(\"repos\")' replaces Bioconductor standard repositories, see\n",
      "'help(\"repositories\", package = \"BiocManager\")' for details.\n",
      "Replacement repositories:\n",
      "    CRAN: https://cran.r-project.org\n",
      "\n",
      "Bioconductor version 3.16 (BiocManager 1.30.21), R 4.2.0 (2022-04-22)\n",
      "\n",
      "Warning message:\n",
      "\"package(s) not installed when version(s) same as or greater than current; use\n",
      "  `force = TRUE` to re-install: 'ComplexHeatmap'\"\n",
      "Old packages: 'aplot', 'askpass', 'BiocManager', 'bslib', 'Cairo', 'CMplot',\n",
      "  'cpp11', 'credentials', 'curl', 'dqrng', 'DT', 'emmeans', 'fastmatch',\n",
      "  'fontawesome', 'foreign', 'fs', 'gert', 'ggfun', 'ggplot2', 'ggplotify',\n",
      "  'gtable', 'htmltools', 'httr', 'igraph', 'knitr', 'labeling', 'mapplots',\n",
      "  'markdown', 'Matrix', 'mvtnorm', 'nlme', 'openssl', 'patchwork', 'progressr',\n",
      "  'promises', 'purrr', 'RcppAnnoy', 'RcppArmadillo', 'rematch', 'remotes',\n",
      "  'reticulate', 'rmarkdown', 'sass', 'scCustomize', 'shiny', 'snakecase',\n",
      "  'spatial', 'spatstat.explore', 'spatstat.geom', 'spatstat.random',\n",
      "  'survival', 'tidytree', 'tinytex', 'viridis', 'xfun', 'xml2', 'yulab.utils',\n",
      "  'cli', 'digest', 'fansi', 'fastmap', 'jsonlite', 'lifecycle', 'pbdZMQ',\n",
      "  'rlang', 'utf8', 'uuid', 'vctrs'\n",
      "\n",
      "Installing package into '/share/korflab/home/viki/rlibs'\n",
      "(as 'lib' is unspecified)\n",
      "\n",
      "Warning message in install.packages(\"dplyr\"):\n",
      "\"installation of package 'dplyr' had non-zero exit status\"\n",
      "Installing package into '/share/korflab/home/viki/rlibs'\n",
      "(as 'lib' is unspecified)\n",
      "\n",
      "Warning message in install.packages(\"tidyr\"):\n",
      "\"installation of package 'tidyr' had non-zero exit status\"\n",
      "Installing package into '/share/korflab/home/viki/rlibs'\n",
      "(as 'lib' is unspecified)\n",
      "\n",
      "Warning message in install.packages(\"reshape2\"):\n",
      "\"installation of package 'reshape2' had non-zero exit status\"\n"
     ]
    }
   ],
   "source": [
    "# ComplexHeatmap\n",
    "if (!require(\"BiocManager\", quietly = TRUE))\n",
    "    install.packages(\"BiocManager\")\n",
    "BiocManager::install(\"ComplexHeatmap\")\n",
    "\n",
    "# dplyr\n",
    "install.packages(\"dplyr\")\n",
    "\n",
    "# tidy4\n",
    "install.packages(\"tidyr\")\n",
    "\n",
    "# reshape2\n",
    "install.packages(\"reshape2\")"
   ]
  },
  {
   "cell_type": "markdown",
   "id": "5e7fb877",
   "metadata": {},
   "source": [
    "## Load Packages"
   ]
  },
  {
   "cell_type": "code",
   "execution_count": 4,
   "id": "afbc3568",
   "metadata": {
    "collapsed": true
   },
   "outputs": [
    {
     "name": "stderr",
     "output_type": "stream",
     "text": [
      "Loading required package: grid\n",
      "\n",
      "========================================\n",
      "ComplexHeatmap version 2.14.0\n",
      "Bioconductor page: http://bioconductor.org/packages/ComplexHeatmap/\n",
      "Github page: https://github.com/jokergoo/ComplexHeatmap\n",
      "Documentation: http://jokergoo.github.io/ComplexHeatmap-reference\n",
      "\n",
      "If you use it in published research, please cite either one:\n",
      "- Gu, Z. Complex Heatmap Visualization. iMeta 2022.\n",
      "- Gu, Z. Complex heatmaps reveal patterns and correlations in multidimensional \n",
      "    genomic data. Bioinformatics 2016.\n",
      "\n",
      "\n",
      "The new InteractiveComplexHeatmap package can directly export static \n",
      "complex heatmaps into an interactive Shiny app with zero effort. Have a try!\n",
      "\n",
      "This message can be suppressed by:\n",
      "  suppressPackageStartupMessages(library(ComplexHeatmap))\n",
      "========================================\n",
      "\n",
      "\n",
      "\n",
      "Attaching package: 'dplyr'\n",
      "\n",
      "\n",
      "The following objects are masked from 'package:stats':\n",
      "\n",
      "    filter, lag\n",
      "\n",
      "\n",
      "The following objects are masked from 'package:base':\n",
      "\n",
      "    intersect, setdiff, setequal, union\n",
      "\n",
      "\n"
     ]
    }
   ],
   "source": [
    "library(ComplexHeatmap)\n",
    "library(dplyr)\n",
    "library(tidyr)\n",
    "library(reshape2)"
   ]
  },
  {
   "cell_type": "markdown",
   "id": "8e8b8b97",
   "metadata": {},
   "source": [
    "## Load Dataframe"
   ]
  },
  {
   "cell_type": "code",
   "execution_count": 42,
   "id": "39aa66a6",
   "metadata": {},
   "outputs": [],
   "source": [
    "df <- read.csv(\"tables_and_figures/expected_vs_observed_peaks_master.csv\", header = TRUE)"
   ]
  },
  {
   "cell_type": "markdown",
   "id": "8680894d",
   "metadata": {},
   "source": [
    "## Create Heatmap Matrices"
   ]
  },
  {
   "cell_type": "code",
   "execution_count": 51,
   "id": "09f3d91b",
   "metadata": {},
   "outputs": [
    {
     "name": "stdout",
     "output_type": "stream",
     "text": [
      "   bowtie2  bwa_mem     STAR\n",
      "1 30.91541 30.91541 30.91541\n",
      "2 43.55069 43.55069 43.55069\n",
      "3 48.65071 48.65071 48.65071\n",
      "4 52.50032 52.50032 52.50032\n",
      "5 49.55741 49.55741 49.55741\n",
      "6 51.48506 51.48506 51.48506\n"
     ]
    }
   ],
   "source": [
    "# Create heatmap matrices\n",
    "\n",
    "# Select data of interest\n",
    "heatmap_data <- df %>%\n",
    "  select(Endedness, Peak_Type, Aligner, Peak_Caller, Deduplicator, Test_Dataset, Control, Sensitivity, Precision, F1_Score)\n",
    "\n",
    "# Combine variables for plotting\n",
    "heatmap_data$Seq_Metadata <- paste(heatmap_data$Endedness, heatmap_data$Peak_Type, sep = \"_\")\n",
    "\n",
    "# Replace NA values with 0\n",
    "heatmap_data <- heatmap_data %>%\n",
    "  mutate(Sensitivity = replace_na(Sensitivity, 0),\n",
    "         Precision = replace_na(Precision, 0),\n",
    "         F1_Score = replace_na(F1_Score, 0))\n",
    "\n",
    "mat <- dcast(heatmap_data, Test_Dataset ~ Aligner, value.var = \"F1_Score\", fun.aggregate = sum)\n",
    "\n",
    "# Set row names to Test_Dataset numbers\n",
    "rownames(mat) <- mat$Test_Dataset\n",
    "\n",
    "# Remove the Test_Dataset column\n",
    "mat <- mat[, -1]\n",
    "\n",
    "# Print the resulting matrix\n",
    "print(mat)"
   ]
  },
  {
   "cell_type": "markdown",
   "id": "941a5e93",
   "metadata": {},
   "source": [
    "## Generate Heatmaps"
   ]
  },
  {
   "cell_type": "code",
   "execution_count": 43,
   "id": "58910691",
   "metadata": {
    "collapsed": true
   },
   "outputs": [
    {
     "ename": "ERROR",
     "evalue": "Error in rownames(male_matrix): object 'male_matrix' not found\n",
     "output_type": "error",
     "traceback": [
      "Error in rownames(male_matrix): object 'male_matrix' not found\nTraceback:\n",
      "1. rowAnnotation(F1_Scores = rownames(male_matrix))",
      "2. HeatmapAnnotation(..., which = \"row\")",
      "3. rownames(male_matrix)"
     ]
    }
   ],
   "source": [
    "#pdf(\"F1_score_heatmap.pdf\", height = 20, width = 10)\n",
    "\n",
    "row_ha = rowAnnotation(F1_Scores = rownames(male_matrix))\n",
    "column_ha = HeatmapAnnotation(`Peak Caller` = heatmap_matrix$Peak_Caller, \n",
    "                              `Deduplicator` = heatmap_matrix$Deduplicator,\n",
    "                              `Test Dataset` = heatmap_matrix$Test_Dataset,\n",
    "                              col = list(`Peak Caller` = c(\"cisgenome\" = \"#c2ffc3\",\"genrich\"= \"#90ec7c\",\"macs3\"= \"#00b22a\", \"pepr\" = \"#006b05\"), \n",
    "                                         `Deduplicator` = c(\"samtools\" = \"#e6e6fa\", \"no_deduplication\" = \"#aea3e0\", \"picard\" = \"#835fbd\", \"sambamba\" = \"#620093\"),\n",
    "                                         `Test Dataset` = c(\"1\" = \"#00CCFF\", \"2\" = \"#00A3FF\", \"3\" = \"#007AFF\", \"4\" = \"#0052FF\", \"5\" = \"#0000FF\", \"6\" = \"#0700C4\", ), \n",
    "                                         annotation_name_gp = gpar(fontsize = 16 )),\n",
    "                              annotation_name_gp = gpar(fontsize = 16 ))\n",
    "\n",
    "map = grid.grabExpr(\n",
    "  draw(\n",
    "    Heatmap(heatmap_matrix, \n",
    "            name = \"F1 Scores\", \n",
    "            top_annotation = column_ha, \n",
    "            col = col_fun, \n",
    "            row_names_gp=gpar(fontsize=16,  ),\n",
    "            column_names_gp=gpar(fontsize=0),\n",
    "            cluster_columns = FALSE, \n",
    "            heatmap_legend_param = list(title=\"F1 Scores\", \n",
    "                                        title_gp = gpar(fontsize = 16,  ), \n",
    "                                        labels_gp = gpar(fontsize = 12,  )), \n",
    ")))\n",
    "\n",
    "#grid.newpage()\n",
    "grid.draw(map)\n",
    "\n",
    "#dev.off()"
   ]
  },
  {
   "cell_type": "code",
   "execution_count": null,
   "id": "7f63c9a5",
   "metadata": {},
   "outputs": [],
   "source": []
  }
 ],
 "metadata": {
  "kernelspec": {
   "display_name": "R",
   "language": "R",
   "name": "ir"
  },
  "language_info": {
   "codemirror_mode": "r",
   "file_extension": ".r",
   "mimetype": "text/x-r-source",
   "name": "R",
   "pygments_lexer": "r",
   "version": "4.2.0"
  }
 },
 "nbformat": 4,
 "nbformat_minor": 5
}
