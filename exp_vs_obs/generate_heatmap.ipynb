{
 "cells": [
  {
   "cell_type": "markdown",
   "id": "e0767cbb",
   "metadata": {},
   "source": [
    "## Update Bioconductor"
   ]
  },
  {
   "cell_type": "code",
   "execution_count": null,
   "id": "b01860bd",
   "metadata": {},
   "outputs": [],
   "source": [
    "if (!require(\"BiocManager\", quietly = TRUE))\n",
    "    install.packages(\"BiocManager\")\n",
    "BiocManager::install(version = \"3.17\")"
   ]
  },
  {
   "cell_type": "markdown",
   "id": "a31273ca",
   "metadata": {},
   "source": [
    "## Install Packages"
   ]
  },
  {
   "cell_type": "code",
   "execution_count": null,
   "id": "d711c8e9",
   "metadata": {},
   "outputs": [],
   "source": [
    "# ComplexHeatmap\n",
    "if (!require(\"BiocManager\", quietly = TRUE))\n",
    "    install.packages(\"BiocManager\")\n",
    "BiocManager::install(\"ComplexHeatmap\")\n",
    "\n",
    "# dplyr\n",
    "install.packages(\"dplyr\")\n",
    "\n",
    "# tidy4\n",
    "install.packages(\"tidyr\")\n",
    "\n",
    "# reshape2\n",
    "install.packages(\"reshape2\")"
   ]
  },
  {
   "cell_type": "markdown",
   "id": "5e7fb877",
   "metadata": {},
   "source": [
    "## Load Packages"
   ]
  },
  {
   "cell_type": "code",
   "execution_count": 223,
   "id": "6d04d189",
   "metadata": {},
   "outputs": [],
   "source": [
    "library(ComplexHeatmap)\n",
    "library(dplyr)\n",
    "library(tidyr)\n",
    "library(reshape2)\n",
    "library(stringr)"
   ]
  },
  {
   "cell_type": "markdown",
   "id": "8e8b8b97",
   "metadata": {},
   "source": [
    "## Load Dataframe"
   ]
  },
  {
   "cell_type": "code",
   "execution_count": 12,
   "id": "39aa66a6",
   "metadata": {},
   "outputs": [],
   "source": [
    "df <- read.csv(\"tables_and_figures/expected_vs_observed_peaks_master.csv\", header = TRUE)"
   ]
  },
  {
   "cell_type": "code",
   "execution_count": 13,
   "id": "3302e695",
   "metadata": {},
   "outputs": [],
   "source": [
    "# Format data\n",
    "\n",
    "# Select data of interest\n",
    "heatmap_data <- df %>%\n",
    "  select(Endedness, Peak_Type, Aligner, Peak_Caller, Deduplicator, Test_Dataset, Control, Sensitivity, Precision, F1_Score)\n",
    "\n",
    "# Combine variables for plotting\n",
    "heatmap_data$x_axis_labels <- paste(heatmap_data$Peak_Caller, heatmap_data$Deduplicator, heatmap_data$Test_Dataset, sep = \"_\")\n",
    "heatmap_data$y_axis_labels <- paste(heatmap_data$Endedness, heatmap_data$Peak_Type, heatmap_data$Aligner, sep = \"_\")\n",
    "\n",
    "# Replace NA values with 0\n",
    "heatmap_data <- heatmap_data %>%\n",
    "  mutate(Sensitivity = replace_na(Sensitivity, 0),\n",
    "         Precision = replace_na(Precision, 0),\n",
    "         F1_Score = replace_na(F1_Score, 0))"
   ]
  },
  {
   "cell_type": "markdown",
   "id": "8680894d",
   "metadata": {},
   "source": [
    "## Heatmap of F1 Scores"
   ]
  },
  {
   "cell_type": "markdown",
   "id": "41dd77b9",
   "metadata": {},
   "source": [
    "### Create matrices"
   ]
  },
  {
   "cell_type": "code",
   "execution_count": 207,
   "id": "09f3d91b",
   "metadata": {},
   "outputs": [],
   "source": [
    "# Control matrix\n",
    "\n",
    "# Split into control vs. no_control\n",
    "control_df <- heatmap_data[heatmap_data$Control == \"with_control\", ]\n",
    "\n",
    "# Melt the data from the heatmap_data dataframe\n",
    "melted_control_df <- melt(control_df, id.vars = c(\"x_axis_labels\", \"y_axis_labels\"), measure.vars = \"F1_Score\")\n",
    "\n",
    "# Cast the data into the desired format\n",
    "cast_control_df <- dcast(melted_control_df, y_axis_labels ~ x_axis_labels, value.var = \"value\")\n",
    "\n",
    "# Generate matrices\n",
    "rownames(cast_control_df) <- cast_control_df$y_axis_labels\n",
    "cast_control_df$y_axis_labels <- NULL\n",
    "control_matrix <- as.matrix(cast_control_df)\n",
    "\n",
    "# Transpose matrix to switch rows and columns\n",
    "control_matrix <- t(control_matrix)"
   ]
  },
  {
   "cell_type": "code",
   "execution_count": 40,
   "id": "1ff83258",
   "metadata": {},
   "outputs": [],
   "source": [
    "# No control matrix\n",
    "\n",
    "no_control_df <- heatmap_data[heatmap_data$Control == \"no_control\", ]\n",
    "\n",
    "# Melt the data from the heatmap_data dataframe\n",
    "melted_no_control_df <- melt(no_control_df, id.vars = c(\"x_axis_labels\", \"y_axis_labels\"), measure.vars = \"F1_Score\")\n",
    "\n",
    "# Cast the data into the desired format\n",
    "cast_no_control_df <- dcast(melted_no_control_df, y_axis_labels ~ x_axis_labels, value.var = \"value\")\n",
    "\n",
    "# Generate matrices\n",
    "rownames(cast_no_control_df) <- cast_no_control_df$y_axis_labels\n",
    "cast_no_control_df$y_axis_labels <- NULL\n",
    "no_control_matrix <- as.matrix(cast_no_control_df)"
   ]
  },
  {
   "cell_type": "markdown",
   "id": "a3f13f86",
   "metadata": {},
   "source": [
    "### Prepare metadata "
   ]
  },
  {
   "cell_type": "code",
   "execution_count": 244,
   "id": "215f5071",
   "metadata": {},
   "outputs": [],
   "source": [
    "# Handle metadata for control\n",
    "\n",
    "control_metadata <- as.data.frame(control_matrix)\n",
    "\n",
    "# Peak Caller\n",
    "new_row_names <- sub(\"^(.*?)_.*$\", \"\\\\1\", rownames(control_matrix))\n",
    "replacement_rules <- c(\"cisgenome\" = \"Cisgenome\", \"macs3\" = \"MACS3\", \"pepr\" = \"PePr\", \"genrich\" = \"Genrich\")\n",
    "new_row_names <- sapply(new_row_names, function(name) {\n",
    "  if (name %in% names(replacement_rules)) {\n",
    "    return(replacement_rules[name])\n",
    "  } else {\n",
    "    return(name)\n",
    "  }\n",
    "})\n",
    "control_metadata$Peak_Caller <- new_row_names\n",
    "\n",
    "# Deduplicator\n",
    "new_row_names <- str_extract(rownames(control_matrix), \"(?<=_)[^_]+\")\n",
    "replacement_rules <- c(\"no\" = \"None\", \"sambamba\" = \"Sambamba\", \"picard\" = \"Picard\", \"samtools\" = \"Samtools\")\n",
    "new_row_names <- sapply(new_row_names, function(name) {\n",
    "  if (name %in% names(replacement_rules)) {\n",
    "    return(replacement_rules[name])\n",
    "  } else {\n",
    "    return(name)\n",
    "  }\n",
    "})\n",
    "control_metadata$Deduplicator <- new_row_names\n",
    "\n",
    "# Test_Dataset\n",
    "control_metadata$Test_Dataset <- str_extract(rownames(control_metadata), \"\\\\d+\")"
   ]
  },
  {
   "cell_type": "markdown",
   "id": "61927664",
   "metadata": {},
   "source": [
    "### Create heatmaps "
   ]
  },
  {
   "cell_type": "code",
   "execution_count": 276,
   "id": "e823702a",
   "metadata": {},
   "outputs": [],
   "source": [
    "# Color scheme\n",
    "\n",
    "colors <- list(Ededness = c(\"paired\" = \"#eb647e\", \"single\" = \"#f7d3db\"),\n",
    "               Peak_Type = c(\"narrow\" = \"#ff4d00\", \"broad\" = \"#ff9a00\"),\n",
    "               Aligner = c(\"bwa_mem\" = \"#ff0000\", \"bowtie2\" = \"#8c0000\", \"star\" = \"#400000\")\n",
    ")"
   ]
  },
  {
   "cell_type": "code",
   "execution_count": 277,
   "id": "1b827777",
   "metadata": {},
   "outputs": [],
   "source": [
    "# Annotation objects\n",
    "\n",
    "row_ha = rowAnnotation(`Peak Caller` = control_metadata$Peak_Caller,\n",
    "                       `Deduplicator` = control_metadata$Deduplicator,\n",
    "                       `Test Dataset` = control_metadata$Test_Dataset,\n",
    "                       col = list(`Peak Caller` = c(\"Cisgenome\" = \"#c2ffc3\",\"Genrich\"= \"#90ec7c\",\"MACS3\"= \"#00b22a\", \"PePr\" = \"#006b05\"),\n",
    "                                  `Deduplicator` = c(\"Samtools\" = \"#620093\", \"None\" = \"#e6e6fa\", \"Picard\" = \"#aea3e0\", \"Sambamba\" = \"#835fbd\"),\n",
    "                                  `Test Dataset` = c(\"1\" = \"#00CCFF\", \"2\" = \"#00A3FF\", \"3\" = \"#007AFF\", \"4\" = \"#0052FF\", \"5\" = \"#0000FF\", \"6\" = \"#0700C4\"))\n",
    "                           )\n",
    "\n",
    "#col_ha = HeatmapAnnotation()"
   ]
  },
  {
   "cell_type": "code",
   "execution_count": 281,
   "id": "e82c5a82",
   "metadata": {},
   "outputs": [
    {
     "data": {
      "text/html": [
       "<style>\n",
       ".list-inline {list-style: none; margin:0; padding: 0}\n",
       ".list-inline>li {display: inline-block}\n",
       ".list-inline>li:not(:last-child)::after {content: \"\\00b7\"; padding: 0 .5ex}\n",
       "</style>\n",
       "<ol class=list-inline><li>4.27584666234124</li><li>10.9300314121694</li></ol>\n"
      ],
      "text/latex": [
       "\\begin{enumerate*}\n",
       "\\item 4.27584666234124\n",
       "\\item 10.9300314121694\n",
       "\\end{enumerate*}\n"
      ],
      "text/markdown": [
       "1. 4.27584666234124\n",
       "2. 10.9300314121694\n",
       "\n",
       "\n"
      ],
      "text/plain": [
       "[1]  4.275847 10.930031"
      ]
     },
     "metadata": {},
     "output_type": "display_data"
    },
    {
     "data": {
      "image/png": "[encoded data removed]",
      "text/plain": [
       "plot without title"
      ]
     },
     "metadata": {
      "image/png": {
       "height": 420,
       "width": 420
      }
     },
     "output_type": "display_data"
    }
   ],
   "source": [
    "# Create heatmap\n",
    "\n",
    "#pdf(\"tables_and_figures/f1_score_control_heatmap.pdf\", height = 21, width = 5)\n",
    "\n",
    "# Heatmap for control\n",
    "heatmap_object <- Heatmap(\n",
    "  # Data\n",
    "  control_matrix, \n",
    "  \n",
    "  # Column customizations\n",
    "  cluster_columns = FALSE,\n",
    "  column_km = 4,\n",
    "  column_names_max_height = max_text_width(\n",
    "    colnames(control_matrix),\n",
    "    gp = gpar(fontsize = 16)\n",
    "  ),\n",
    "  column_names_centered = TRUE,\n",
    "  column_names_side = \"top\",\n",
    "    \n",
    "  # Row customizations\n",
    "  cluster_rows = FALSE,\n",
    "  show_row_names = FALSE,\n",
    "  left_annotation = row_ha,\n",
    "\n",
    "  # Legend customizations\n",
    "  heatmap_legend_param = list(title = \"F1 Scores\"),\n",
    "  col = colorRampPalette(c(\"#B2182B\", \"#EEEEEE\", \"#2166AC\"))(100),\n",
    "\n",
    "  # Other customizations\n",
    "  border = TRUE, \n",
    "  width = ncol(control_matrix)*unit(5, \"mm\"), \n",
    "  height = nrow(control_matrix)*unit(2, \"mm\")\n",
    ")\n",
    "\n",
    "ht = draw(heatmap_object)\n",
    "\n",
    "# Print width and height to determine appropriate export size\n",
    "w = ComplexHeatmap:::width(ht)\n",
    "w = convertX(w, \"inch\", valueOnly = TRUE)\n",
    "h = ComplexHeatmap:::height(ht)\n",
    "h = convertY(h, \"inch\", valueOnly = TRUE)\n",
    "c(w, h)\n",
    "\n",
    "#dev.off()"
   ]
  },
  {
   "cell_type": "markdown",
   "id": "e3c9b8eb",
   "metadata": {},
   "source": [
    "## Create Heatmap of Precision"
   ]
  },
  {
   "cell_type": "markdown",
   "id": "ce98b9e3",
   "metadata": {},
   "source": [
    "## Create Heatmap of Sensitivity"
   ]
  }
 ],
 "metadata": {
  "kernelspec": {
   "display_name": "R",
   "language": "R",
   "name": "ir"
  },
  "language_info": {
   "codemirror_mode": "r",
   "file_extension": ".r",
   "mimetype": "text/x-r-source",
   "name": "R",
   "pygments_lexer": "r",
   "version": "4.2.0"
  }
 },
 "nbformat": 4,
 "nbformat_minor": 5
}
