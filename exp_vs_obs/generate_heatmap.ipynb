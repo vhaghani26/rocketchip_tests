{
 "cells": [
  {
   "cell_type": "markdown",
   "id": "e0767cbb",
   "metadata": {},
   "source": [
    "## Update Bioconductor"
   ]
  },
  {
   "cell_type": "code",
   "execution_count": null,
   "id": "b01860bd",
   "metadata": {},
   "outputs": [],
   "source": [
    "if (!require(\"BiocManager\", quietly = TRUE))\n",
    "    install.packages(\"BiocManager\")\n",
    "BiocManager::install(version = \"3.17\")"
   ]
  },
  {
   "cell_type": "markdown",
   "id": "a31273ca",
   "metadata": {},
   "source": [
    "## Install Packages"
   ]
  },
  {
   "cell_type": "code",
   "execution_count": null,
   "id": "d711c8e9",
   "metadata": {},
   "outputs": [],
   "source": [
    "# ComplexHeatmap\n",
    "if (!require(\"BiocManager\", quietly = TRUE))\n",
    "    install.packages(\"BiocManager\")\n",
    "BiocManager::install(\"ComplexHeatmap\")\n",
    "\n",
    "# dplyr\n",
    "install.packages(\"dplyr\")\n",
    "\n",
    "# tidy4\n",
    "install.packages(\"tidyr\")\n",
    "\n",
    "# reshape2\n",
    "install.packages(\"reshape2\")"
   ]
  },
  {
   "cell_type": "markdown",
   "id": "5e7fb877",
   "metadata": {},
   "source": [
    "## Load Packages"
   ]
  },
  {
   "cell_type": "code",
   "execution_count": 3,
   "id": "6d04d189",
   "metadata": {},
   "outputs": [],
   "source": [
    "library(ComplexHeatmap)\n",
    "library(dplyr)\n",
    "library(tidyr)\n",
    "library(reshape2)\n",
    "library(stringr)"
   ]
  },
  {
   "cell_type": "markdown",
   "id": "8e8b8b97",
   "metadata": {},
   "source": [
    "## Load Dataframe"
   ]
  },
  {
   "cell_type": "code",
   "execution_count": 44,
   "id": "39aa66a6",
   "metadata": {},
   "outputs": [],
   "source": [
    "df <- read.csv(\"tables_and_figures/expected_vs_observed_peaks_master.csv\", header = TRUE)"
   ]
  },
  {
   "cell_type": "code",
   "execution_count": 45,
   "id": "c2d05321",
   "metadata": {},
   "outputs": [],
   "source": [
    "# Format data\n",
    "\n",
    "# Select data of interest\n",
    "heatmap_data <- df %>%\n",
    "  select(Endedness, Peak_Type, Aligner, Peak_Caller, Deduplicator, Test_Dataset, Control, Sensitivity, Precision, F1_Score)\n",
    "\n",
    "# Combine variables for plotting\n",
    "heatmap_data$x_axis_labels <- paste(heatmap_data$Peak_Caller, heatmap_data$Deduplicator, heatmap_data$Test_Dataset, sep = \"_\")\n",
    "heatmap_data$y_axis_labels <- paste(heatmap_data$Endedness, heatmap_data$Peak_Type, heatmap_data$Aligner, sep = \"_\")\n",
    "\n",
    "# Replace NA values with 0\n",
    "heatmap_data <- heatmap_data %>%\n",
    "  mutate(Sensitivity = replace_na(Sensitivity, 0),\n",
    "         Precision = replace_na(Precision, 0),\n",
    "         F1_Score = replace_na(F1_Score, 0))"
   ]
  },
  {
   "cell_type": "markdown",
   "id": "9f409f49",
   "metadata": {},
   "source": [
    "## Data with Control"
   ]
  },
  {
   "cell_type": "markdown",
   "id": "8680894d",
   "metadata": {},
   "source": [
    "### F1 Scores"
   ]
  },
  {
   "cell_type": "markdown",
   "id": "c0d3aabb",
   "metadata": {},
   "source": [
    "#### Create matrix"
   ]
  },
  {
   "cell_type": "code",
   "execution_count": 46,
   "id": "09f3d91b",
   "metadata": {},
   "outputs": [],
   "source": [
    "# Subset for data with control\n",
    "control_df <- heatmap_data[heatmap_data$Control == \"with_control\", ]\n",
    "\n",
    "# Melt the data from the heatmap_data dataframe\n",
    "melted_control_df <- melt(control_df, id.vars = c(\"x_axis_labels\", \"y_axis_labels\"), measure.vars = \"F1_Score\")\n",
    "\n",
    "# Cast the data into the desired format\n",
    "cast_control_df <- dcast(melted_control_df, y_axis_labels ~ x_axis_labels, value.var = \"value\")\n",
    "\n",
    "# Generate matrices\n",
    "rownames(cast_control_df) <- cast_control_df$y_axis_labels\n",
    "cast_control_df$y_axis_labels <- NULL\n",
    "control_matrix <- as.matrix(cast_control_df)\n",
    "\n",
    "# Transpose matrix to switch rows and columns\n",
    "control_matrix <- t(control_matrix)"
   ]
  },
  {
   "cell_type": "markdown",
   "id": "313f1ca3",
   "metadata": {},
   "source": [
    "#### Prepare metadata "
   ]
  },
  {
   "cell_type": "code",
   "execution_count": 51,
   "id": "3ad55aa7",
   "metadata": {},
   "outputs": [],
   "source": [
    "# Save matrix as data frame for manipulation\n",
    "control_metadata <- as.data.frame(control_matrix)\n",
    "\n",
    "# Peak Caller\n",
    "new_row_names <- sub(\"^(.*?)_.*$\", \"\\\\1\", rownames(control_matrix))\n",
    "replacement_rules <- c(\"cisgenome\" = \"Cisgenome\", \"macs3\" = \"MACS3\", \"pepr\" = \"PePr\", \"genrich\" = \"Genrich\")\n",
    "new_row_names <- sapply(new_row_names, function(name) {\n",
    "  if (name %in% names(replacement_rules)) {\n",
    "    return(replacement_rules[name])\n",
    "  } else {\n",
    "    return(name)\n",
    "  }\n",
    "})\n",
    "control_metadata$Peak_Caller <- new_row_names\n",
    "\n",
    "# Deduplicator\n",
    "new_row_names <- str_extract(rownames(control_matrix), \"(?<=_)[^_]+\")\n",
    "replacement_rules <- c(\"no\" = \"None\", \"sambamba\" = \"Sambamba\", \"picard\" = \"Picard\", \"samtools\" = \"Samtools\")\n",
    "new_row_names <- sapply(new_row_names, function(name) {\n",
    "  if (name %in% names(replacement_rules)) {\n",
    "    return(replacement_rules[name])\n",
    "  } else {\n",
    "    return(name)\n",
    "  }\n",
    "})\n",
    "control_metadata$Deduplicator <- new_row_names\n",
    "\n",
    "# Test_Dataset\n",
    "control_metadata$Test_Dataset <- as.integer(gsub(\".*_(\\\\d+)$\", \"\\\\1\", rownames(control_metadata)))\n",
    "value_map <- c(\"4X\", \"8X\", \"16X\", \"32X\", \"64X\", \"128X\")\n",
    "control_metadata$Test_Dataset <- value_map[control_metadata$Test_Dataset]"
   ]
  },
  {
   "cell_type": "markdown",
   "id": "8c5bc68d",
   "metadata": {},
   "source": [
    "#### Create heatmap"
   ]
  },
  {
   "cell_type": "code",
   "execution_count": 55,
   "id": "7c459a28",
   "metadata": {},
   "outputs": [],
   "source": [
    "# Annotation objects\n",
    "\n",
    "# Define the desired order for Peak Coverage levels\n",
    "peak_coverage_order <- c(\"4X\", \"8X\", \"16X\", \"32X\", \"64X\", \"128X\")\n",
    "\n",
    "# Row annotations\n",
    "row_ha = rowAnnotation(`Peak Caller` = control_metadata$Peak_Caller,\n",
    "                       `Deduplicator` = control_metadata$Deduplicator,\n",
    "                       `Peak Coverage` = factor(control_metadata$Test_Dataset, levels = peak_coverage_order),\n",
    "                       col = list(`Peak Caller` = c(\"Cisgenome\" = \"#c2ffc3\",\"Genrich\"= \"#90ec7c\",\"MACS3\"= \"#00b22a\", \"PePr\" = \"#006b05\"),\n",
    "                                  `Deduplicator` = c(\"Samtools\" = \"#620093\", \"None\" = \"#e6e6fa\", \"Picard\" = \"#aea3e0\", \"Sambamba\" = \"#835fbd\"),\n",
    "                                  `Peak Coverage` = c(\"4X\" = \"#00CCFF\", \"8X\" = \"#00A3FF\", \"16X\" = \"#007AFF\", \"32X\" = \"#0052FF\", \"64X\" = \"#0000FF\", \"128X\" = \"#0700C4\"))\n",
    "                        )\n",
    "\n",
    "# Column annotations\n",
    "col_ha = HeatmapAnnotation(`Endedness` = c(rep(\"Paired\", 6), rep(\"Single\", 6)),\n",
    "                            `Peak_Type` = c(rep(\"Broad\", 3), rep(\"Narrow\", 3), rep(\"Broad\", 3), rep(\"Narrow\", 3)),\n",
    "                            `Aligner` = c(\"Bowtie2\", \"BWA-MEM\", \"STAR\", \"Bowtie2\", \"BWA-MEM\", \"STAR\", \"Bowtie2\", \"BWA-MEM\", \"STAR\", \"Bowtie2\", \"BWA-MEM\", \"STAR\"),\n",
    "                            col = list(`Endedness` = c(\"Paired\" = \"#f7d3db\", \"Single\" = \"#eb647e\"),\n",
    "                                       `Peak_Type` = c(\"Narrow\" = \"#ff4d00\", \"Broad\" = \"#ff9a00\"),\n",
    "                                       `Aligner` = c(\"BWA-MEM\" = \"#8c0000\", \"Bowtie2\" = \"#ff0000\", \"STAR\" = \"#400000\"))\n",
    "                            )"
   ]
  },
  {
   "cell_type": "code",
   "execution_count": 56,
   "id": "e447d816",
   "metadata": {
    "scrolled": true
   },
   "outputs": [
    {
     "data": {
      "text/html": [
       "<style>\n",
       ".list-inline {list-style: none; margin:0; padding: 0}\n",
       ".list-inline>li {display: inline-block}\n",
       ".list-inline>li:not(:last-child)::after {content: \"\\00b7\"; padding: 0 .5ex}\n",
       "</style>\n",
       "<ol class=list-inline><li>5.34792015315489</li><li>9.54022745849172</li></ol>\n"
      ],
      "text/latex": [
       "\\begin{enumerate*}\n",
       "\\item 5.34792015315489\n",
       "\\item 9.54022745849172\n",
       "\\end{enumerate*}\n"
      ],
      "text/markdown": [
       "1. 5.34792015315489\n",
       "2. 9.54022745849172\n",
       "\n",
       "\n"
      ],
      "text/plain": [
       "[1] 5.347920 9.540227"
      ]
     },
     "metadata": {},
     "output_type": "display_data"
    },
    {
     "data": {
      "text/html": [
       "<strong>png:</strong> 2"
      ],
      "text/latex": [
       "\\textbf{png:} 2"
      ],
      "text/markdown": [
       "**png:** 2"
      ],
      "text/plain": [
       "png \n",
       "  2 "
      ]
     },
     "metadata": {},
     "output_type": "display_data"
    }
   ],
   "source": [
    "# Create heatmap\n",
    "\n",
    "pdf(\"tables_and_figures/f1_score_control_heatmap.pdf\", width = 6, height = 10)\n",
    "\n",
    "# Heatmap for control\n",
    "control_heatmap_object <- Heatmap(\n",
    "  # Data\n",
    "  control_matrix, \n",
    "  \n",
    "  # Column customizations\n",
    "  cluster_columns = FALSE,\n",
    "  column_km = 4,\n",
    "  show_column_names = FALSE,\n",
    "  column_title = NULL,\n",
    "  top_annotation = col_ha,\n",
    "    \n",
    "  # Row customizations\n",
    "  cluster_rows = FALSE,\n",
    "  show_row_names = FALSE,\n",
    "  left_annotation = row_ha,\n",
    "\n",
    "  # Legend customizations\n",
    "  heatmap_legend_param = list(title = \"F1 Scores\"),\n",
    "  col = colorRampPalette(c(\"#B2182B\", \"#EEEEEE\", \"#2166AC\"))(100),\n",
    "\n",
    "  # Other customizations\n",
    "  border = TRUE, \n",
    "  width = ncol(control_matrix)*unit(5, \"mm\"), \n",
    "  height = nrow(control_matrix)*unit(2, \"mm\")\n",
    ")\n",
    "\n",
    "ht = draw(control_heatmap_object)\n",
    "\n",
    "# Print width and height to determine appropriate export size\n",
    "w = ComplexHeatmap:::width(ht)\n",
    "w = convertX(w, \"inch\", valueOnly = TRUE)\n",
    "h = ComplexHeatmap:::height(ht)\n",
    "h = convertY(h, \"inch\", valueOnly = TRUE)\n",
    "c(w, h)\n",
    "\n",
    "dev.off()"
   ]
  },
  {
   "cell_type": "markdown",
   "id": "a24cf97f",
   "metadata": {},
   "source": [
    "### Precision"
   ]
  },
  {
   "cell_type": "markdown",
   "id": "213a4329",
   "metadata": {},
   "source": [
    "#### Create matrix"
   ]
  },
  {
   "cell_type": "code",
   "execution_count": null,
   "id": "b277d7f6",
   "metadata": {},
   "outputs": [],
   "source": [
    "# Subset for data with control\n",
    "control_df <- heatmap_data[heatmap_data$Control == \"with_control\", ]\n",
    "\n",
    "# Melt the data from the heatmap_data dataframe\n",
    "melted_control_df <- melt(control_df, id.vars = c(\"x_axis_labels\", \"y_axis_labels\"), measure.vars = \"Precision\")\n",
    "\n",
    "# Cast the data into the desired format\n",
    "cast_control_df <- dcast(melted_control_df, y_axis_labels ~ x_axis_labels, value.var = \"value\")\n",
    "\n",
    "# Generate matrices\n",
    "rownames(cast_control_df) <- cast_control_df$y_axis_labels\n",
    "cast_control_df$y_axis_labels <- NULL\n",
    "control_matrix <- as.matrix(cast_control_df)\n",
    "\n",
    "# Transpose matrix to switch rows and columns\n",
    "control_matrix <- t(control_matrix)"
   ]
  },
  {
   "cell_type": "markdown",
   "id": "551be2d4",
   "metadata": {},
   "source": [
    "#### Prepare metadata "
   ]
  },
  {
   "cell_type": "code",
   "execution_count": null,
   "id": "551a34ac",
   "metadata": {},
   "outputs": [],
   "source": []
  },
  {
   "cell_type": "markdown",
   "id": "48f4dafd",
   "metadata": {},
   "source": [
    "### Sensitivity"
   ]
  },
  {
   "cell_type": "markdown",
   "id": "4dfc576c",
   "metadata": {},
   "source": [
    "## Data with no Control"
   ]
  },
  {
   "cell_type": "markdown",
   "id": "ca669254",
   "metadata": {},
   "source": [
    "### F1 Scores"
   ]
  },
  {
   "cell_type": "markdown",
   "id": "e6412aa8",
   "metadata": {},
   "source": [
    "#### Create matrix"
   ]
  },
  {
   "cell_type": "code",
   "execution_count": 57,
   "id": "0c4fb7d3",
   "metadata": {},
   "outputs": [],
   "source": [
    "# Subset for data with no control\n",
    "no_control_df <- heatmap_data[heatmap_data$Control == \"no_control\", ]\n",
    "\n",
    "# Melt the data from the heatmap_data dataframe\n",
    "melted_no_control_df <- melt(no_control_df, id.vars = c(\"x_axis_labels\", \"y_axis_labels\"), measure.vars = \"F1_Score\")\n",
    "\n",
    "# Cast the data into the desired format\n",
    "cast_no_control_df <- dcast(melted_no_control_df, y_axis_labels ~ x_axis_labels, value.var = \"value\")\n",
    "\n",
    "# Generate matrices\n",
    "rownames(cast_no_control_df) <- cast_no_control_df$y_axis_labels\n",
    "cast_no_control_df$y_axis_labels <- NULL\n",
    "no_control_matrix <- as.matrix(cast_no_control_df)\n",
    "\n",
    "# Transpose matrix to switch rows and columns\n",
    "no_control_matrix <- t(no_control_matrix)"
   ]
  },
  {
   "cell_type": "markdown",
   "id": "856fac0f",
   "metadata": {},
   "source": [
    "#### Prepare metadata "
   ]
  },
  {
   "cell_type": "code",
   "execution_count": 58,
   "id": "9dbf31b2",
   "metadata": {},
   "outputs": [],
   "source": [
    "# Save matrix as data frame for manipulation\n",
    "no_control_metadata <- as.data.frame(no_control_matrix)\n",
    "\n",
    "# Peak Caller\n",
    "new_row_names <- sub(\"^(.*?)_.*$\", \"\\\\1\", rownames(no_control_matrix))\n",
    "replacement_rules <- c(\"cisgenome\" = \"Cisgenome\", \"macs3\" = \"MACS3\", \"pepr\" = \"PePr\", \"genrich\" = \"Genrich\")\n",
    "new_row_names <- sapply(new_row_names, function(name) {\n",
    "  if (name %in% names(replacement_rules)) {\n",
    "    return(replacement_rules[name])\n",
    "  } else {\n",
    "    return(name)\n",
    "  }\n",
    "})\n",
    "no_control_metadata$Peak_Caller <- new_row_names\n",
    "\n",
    "# Deduplicator\n",
    "new_row_names <- str_extract(rownames(no_control_matrix), \"(?<=_)[^_]+\")\n",
    "replacement_rules <- c(\"no\" = \"None\", \"sambamba\" = \"Sambamba\", \"picard\" = \"Picard\", \"samtools\" = \"Samtools\")\n",
    "new_row_names <- sapply(new_row_names, function(name) {\n",
    "  if (name %in% names(replacement_rules)) {\n",
    "    return(replacement_rules[name])\n",
    "  } else {\n",
    "    return(name)\n",
    "  }\n",
    "})\n",
    "no_control_metadata$Deduplicator <- new_row_names\n",
    "\n",
    "# Test_Dataset\n",
    "no_control_metadata$Test_Dataset <- as.integer(gsub(\".*_(\\\\d+)$\", \"\\\\1\", rownames(no_control_metadata)))\n",
    "value_map <- c(\"4X\", \"8X\", \"16X\", \"32X\", \"64X\", \"128X\")\n",
    "no_control_metadata$Test_Dataset <- value_map[no_control_metadata$Test_Dataset]"
   ]
  },
  {
   "cell_type": "markdown",
   "id": "c7f51f27",
   "metadata": {},
   "source": [
    "#### Create heatmap"
   ]
  },
  {
   "cell_type": "code",
   "execution_count": 59,
   "id": "44c01d63",
   "metadata": {},
   "outputs": [],
   "source": [
    "# Annotation objects\n",
    "\n",
    "# Define the desired order for Peak Coverage levels\n",
    "peak_coverage_order <- c(\"4X\", \"8X\", \"16X\", \"32X\", \"64X\", \"128X\")\n",
    "\n",
    "# Row annotations\n",
    "row_ha = rowAnnotation(`Peak Caller` = no_control_metadata$Peak_Caller,\n",
    "                       `Deduplicator` = no_control_metadata$Deduplicator,\n",
    "                       `Peak Coverage` = factor(no_control_metadata$Test_Dataset, levels = peak_coverage_order),\n",
    "                       col = list(`Peak Caller` = c(\"Cisgenome\" = \"#c2ffc3\",\"Genrich\"= \"#90ec7c\",\"MACS3\"= \"#00b22a\", \"PePr\" = \"#006b05\"),\n",
    "                                  `Deduplicator` = c(\"Samtools\" = \"#620093\", \"None\" = \"#e6e6fa\", \"Picard\" = \"#aea3e0\", \"Sambamba\" = \"#835fbd\"),\n",
    "                                  `Peak Coverage` = c(\"4X\" = \"#00CCFF\", \"8X\" = \"#00A3FF\", \"16X\" = \"#007AFF\", \"32X\" = \"#0052FF\", \"64X\" = \"#0000FF\", \"128X\" = \"#0700C4\"))\n",
    "                        )\n",
    "\n",
    "# Column annotations\n",
    "col_ha = HeatmapAnnotation(`Endedness` = c(rep(\"Paired\", 6), rep(\"Single\", 6)),\n",
    "                            `Peak_Type` = c(rep(\"Broad\", 3), rep(\"Narrow\", 3), rep(\"Broad\", 3), rep(\"Narrow\", 3)),\n",
    "                            `Aligner` = c(\"Bowtie2\", \"BWA-MEM\", \"STAR\", \"Bowtie2\", \"BWA-MEM\", \"STAR\", \"Bowtie2\", \"BWA-MEM\", \"STAR\", \"Bowtie2\", \"BWA-MEM\", \"STAR\"),\n",
    "                            col = list(`Endedness` = c(\"Paired\" = \"#f7d3db\", \"Single\" = \"#eb647e\"),\n",
    "                                       `Peak_Type` = c(\"Narrow\" = \"#ff4d00\", \"Broad\" = \"#ff9a00\"),\n",
    "                                       `Aligner` = c(\"BWA-MEM\" = \"#8c0000\", \"Bowtie2\" = \"#ff0000\", \"STAR\" = \"#400000\"))\n",
    "                            )"
   ]
  },
  {
   "cell_type": "code",
   "execution_count": 60,
   "id": "a6f17cf8",
   "metadata": {},
   "outputs": [
    {
     "data": {
      "text/html": [
       "<style>\n",
       ".list-inline {list-style: none; margin:0; padding: 0}\n",
       ".list-inline>li {display: inline-block}\n",
       ".list-inline>li:not(:last-child)::after {content: \"\\00b7\"; padding: 0 .5ex}\n",
       "</style>\n",
       "<ol class=list-inline><li>5.34792015315489</li><li>9.54022745849172</li></ol>\n"
      ],
      "text/latex": [
       "\\begin{enumerate*}\n",
       "\\item 5.34792015315489\n",
       "\\item 9.54022745849172\n",
       "\\end{enumerate*}\n"
      ],
      "text/markdown": [
       "1. 5.34792015315489\n",
       "2. 9.54022745849172\n",
       "\n",
       "\n"
      ],
      "text/plain": [
       "[1] 5.347920 9.540227"
      ]
     },
     "metadata": {},
     "output_type": "display_data"
    },
    {
     "data": {
      "text/html": [
       "<strong>png:</strong> 2"
      ],
      "text/latex": [
       "\\textbf{png:} 2"
      ],
      "text/markdown": [
       "**png:** 2"
      ],
      "text/plain": [
       "png \n",
       "  2 "
      ]
     },
     "metadata": {},
     "output_type": "display_data"
    }
   ],
   "source": [
    "# Create heatmap\n",
    "\n",
    "pdf(\"tables_and_figures/f1_score_no_control_heatmap.pdf\", width = 6, height = 10)\n",
    "\n",
    "# Heatmap for control\n",
    "control_heatmap_object <- Heatmap(\n",
    "  # Data\n",
    "  no_control_matrix, \n",
    "  \n",
    "  # Column customizations\n",
    "  cluster_columns = FALSE,\n",
    "  column_km = 4,\n",
    "  show_column_names = FALSE,\n",
    "  column_title = NULL,\n",
    "  top_annotation = col_ha,\n",
    "    \n",
    "  # Row customizations\n",
    "  cluster_rows = FALSE,\n",
    "  show_row_names = FALSE,\n",
    "  left_annotation = row_ha,\n",
    "\n",
    "  # Legend customizations\n",
    "  heatmap_legend_param = list(title = \"F1 Scores\"),\n",
    "  col = colorRampPalette(c(\"#B2182B\", \"#EEEEEE\", \"#2166AC\"))(100),\n",
    "\n",
    "  # Other customizations\n",
    "  border = TRUE, \n",
    "  width = ncol(control_matrix)*unit(5, \"mm\"), \n",
    "  height = nrow(control_matrix)*unit(2, \"mm\")\n",
    ")\n",
    "\n",
    "ht = draw(control_heatmap_object)\n",
    "\n",
    "# Print width and height to determine appropriate export size\n",
    "w = ComplexHeatmap:::width(ht)\n",
    "w = convertX(w, \"inch\", valueOnly = TRUE)\n",
    "h = ComplexHeatmap:::height(ht)\n",
    "h = convertY(h, \"inch\", valueOnly = TRUE)\n",
    "c(w, h)\n",
    "\n",
    "dev.off()"
   ]
  },
  {
   "cell_type": "markdown",
   "id": "e3c9b8eb",
   "metadata": {},
   "source": [
    "### Precision"
   ]
  },
  {
   "cell_type": "markdown",
   "id": "ce98b9e3",
   "metadata": {},
   "source": [
    "### Sensitivity"
   ]
  },
  {
   "cell_type": "code",
   "execution_count": null,
   "id": "dfb9a8df",
   "metadata": {},
   "outputs": [],
   "source": []
  }
 ],
 "metadata": {
  "kernelspec": {
   "display_name": "R",
   "language": "R",
   "name": "ir"
  },
  "language_info": {
   "codemirror_mode": "r",
   "file_extension": ".r",
   "mimetype": "text/x-r-source",
   "name": "R",
   "pygments_lexer": "r",
   "version": "4.2.0"
  }
 },
 "nbformat": 4,
 "nbformat_minor": 5
}
